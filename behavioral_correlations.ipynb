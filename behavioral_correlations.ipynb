{
 "cells": [
  {
   "cell_type": "code",
   "execution_count": 1,
   "id": "d6bbbc1c",
   "metadata": {},
   "outputs": [],
   "source": [
    "import numpy as np\n",
    "import nibabel as nb\n",
    "import pandas as pd\n",
    "import os.path as op\n",
    "import os\n",
    "import glob\n",
    "import seaborn as sns\n",
    "import matplotlib.pyplot as plt\n",
    "import scipy.stats\n",
    "from matplotlib.gridspec import GridSpec\n",
    "import statsmodels.formula.api as smf\n",
    "import statsmodels\n",
    "import moss\n",
    "%matplotlib inline"
   ]
  },
  {
   "cell_type": "code",
   "execution_count": 2,
   "id": "e126de7a",
   "metadata": {},
   "outputs": [
    {
     "data": {
      "text/plain": [
       "'0.13.2'"
      ]
     },
     "execution_count": 2,
     "metadata": {},
     "output_type": "execute_result"
    }
   ],
   "source": [
    "home_dir = op.abspath('./')\n",
    "\n",
    "#plotting settings\n",
    "fontsize = 18\n",
    "ticksize = fontsize*.8\n",
    "sns.set_context('talk')\n",
    "sns.__version__"
   ]
  },
  {
   "cell_type": "code",
   "execution_count": 3,
   "id": "6754232f",
   "metadata": {},
   "outputs": [
    {
     "name": "stdout",
     "output_type": "stream",
     "text": [
      "75\n"
     ]
    },
    {
     "data": {
      "text/plain": [
       "(1115, 5)"
      ]
     },
     "execution_count": 3,
     "metadata": {},
     "output_type": "execute_result"
    }
   ],
   "source": [
    "lags = pd.read_csv(op.join(home_dir,\n",
    "                             'csvs',\n",
    "                    'lags_pet_rois.csv'))\n",
    "lags = lags.rename(columns = {'mask':'roi'})\n",
    "lags['sub'] = [int(x[2:]) for x in lags['sub']]\n",
    "lags = lags[lags['sub'] != 216]\n",
    "lags['lag'] = lags['lag']*1000\n",
    "print(len(set(lags['sub'])))\n",
    "lags.shape"
   ]
  },
  {
   "cell_type": "code",
   "execution_count": 4,
   "id": "767343ce",
   "metadata": {},
   "outputs": [],
   "source": [
    "behav = pd.read_csv(op.join(home_dir,\n",
    "                             'csvs',\n",
    "                            'JOCN_2020_behav_data.csv'))\n",
    "behav['sub'] = behav['subject']\n",
    "lags = pd.merge(lags,\n",
    "        behav,\n",
    "         'left',\n",
    "        on = ['sub',\n",
    "              'drug',\n",
    "              'session'])"
   ]
  },
  {
   "cell_type": "code",
   "execution_count": 5,
   "id": "247af097",
   "metadata": {},
   "outputs": [
    {
     "name": "stdout",
     "output_type": "stream",
     "text": [
      "{395, 220}\n"
     ]
    }
   ],
   "source": [
    "ioannis = pd.read_csv('../ioannis_lags.csv')\n",
    "print(set(lags['sub']) - set(ioannis['sub']))\n",
    "lags = lags[lags['sub'] != 220]\n",
    "lags = lags[lags['sub'] != 395]\n",
    "len(set(lags['sub']))\n",
    "len(set(lags['sub']))\n",
    "nacc_lags = lags[lags['roi']== 'VST']\n"
   ]
  },
  {
   "cell_type": "code",
   "execution_count": 6,
   "id": "17ede930",
   "metadata": {},
   "outputs": [
    {
     "name": "stdout",
     "output_type": "stream",
     "text": [
      "VST raw_distr_cost                                Mixed Linear Model Regression Results\n",
      "===================================================================================================\n",
      "Model:                          MixedLM               Dependent Variable:               lag        \n",
      "No. Observations:               219                   Method:                           REML       \n",
      "No. Groups:                     73                    Scale:                            457034.5230\n",
      "Min. group size:                3                     Log-Likelihood:                   -1737.7354 \n",
      "Max. group size:                3                     Converged:                        Yes        \n",
      "Mean group size:                3.0                                                                \n",
      "---------------------------------------------------------------------------------------------------\n",
      "                                                    Coef.    Std.Err.   z    P>|z|  [0.025   0.975]\n",
      "---------------------------------------------------------------------------------------------------\n",
      "Intercept                                            307.813  166.818  1.845 0.065  -19.145 634.770\n",
      "C(drug, Treatment('plac'))[T.brom]                  -173.396  233.145 -0.744 0.457 -630.352 283.560\n",
      "C(drug, Treatment('plac'))[T.tolc]                  -241.285  222.790 -1.083 0.279 -677.945 195.375\n",
      "raw_distr_cost                                        -0.534    0.999 -0.535 0.593   -2.491   1.423\n",
      "C(drug, Treatment('plac'))[T.brom]:raw_distr_cost      0.011    1.393  0.008 0.994   -2.720   2.742\n",
      "C(drug, Treatment('plac'))[T.tolc]:raw_distr_cost      0.793    1.307  0.607 0.544   -1.769   3.354\n",
      "Group Var                                         125403.191   84.243                              \n",
      "===================================================================================================\n",
      "\n",
      "VST raw_sw_cost                               Mixed Linear Model Regression Results\n",
      "=================================================================================================\n",
      "Model:                          MixedLM              Dependent Variable:              lag        \n",
      "No. Observations:               219                  Method:                          REML       \n",
      "No. Groups:                     73                   Scale:                           446253.5689\n",
      "Min. group size:                3                    Log-Likelihood:                  -1737.6271 \n",
      "Max. group size:                3                    Converged:                       Yes        \n",
      "Mean group size:                3.0                                                              \n",
      "-------------------------------------------------------------------------------------------------\n",
      "                                                 Coef.    Std.Err.   z    P>|z|   [0.025   0.975]\n",
      "-------------------------------------------------------------------------------------------------\n",
      "Intercept                                         342.630  249.128  1.375 0.169  -145.652 830.912\n",
      "C(drug, Treatment('plac'))[T.brom]               -629.985  311.447 -2.023 0.043 -1240.411 -19.559\n",
      "C(drug, Treatment('plac'))[T.tolc]                -32.810  314.187 -0.104 0.917  -648.605 582.985\n",
      "raw_sw_cost                                        -0.296    0.625 -0.473 0.636    -1.521   0.929\n",
      "C(drug, Treatment('plac'))[T.brom]:raw_sw_cost      1.174    0.765  1.535 0.125    -0.325   2.674\n",
      "C(drug, Treatment('plac'))[T.tolc]:raw_sw_cost     -0.240    0.782 -0.307 0.759    -1.774   1.293\n",
      "Group Var                                      128801.407   85.263                               \n",
      "=================================================================================================\n",
      "\n",
      "VST raw_distr_acc_cost                                   Mixed Linear Model Regression Results\n",
      "=========================================================================================================\n",
      "Model:                            MixedLM                 Dependent Variable:                 lag        \n",
      "No. Observations:                 219                     Method:                             REML       \n",
      "No. Groups:                       73                      Scale:                              452804.0574\n",
      "Min. group size:                  3                       Log-Likelihood:                     -1714.7622 \n",
      "Max. group size:                  3                       Converged:                          Yes        \n",
      "Mean group size:                  3.0                                                                    \n",
      "---------------------------------------------------------------------------------------------------------\n",
      "                                                        Coef.    Std.Err.   z    P>|z|   [0.025   0.975] \n",
      "---------------------------------------------------------------------------------------------------------\n",
      "Intercept                                                221.391  107.072  2.068 0.039    11.534  431.248\n",
      "C(drug, Treatment('plac'))[T.brom]                      -126.001  140.946 -0.894 0.371  -402.249  150.248\n",
      "C(drug, Treatment('plac'))[T.tolc]                       -18.867  143.648 -0.131 0.896  -300.412  262.678\n",
      "raw_distr_acc_cost                                       292.000 1569.229  0.186 0.852 -2783.633 3367.633\n",
      "C(drug, Treatment('plac'))[T.brom]:raw_distr_acc_cost  -1233.901 2153.956 -0.573 0.567 -5455.578 2987.776\n",
      "C(drug, Treatment('plac'))[T.tolc]:raw_distr_acc_cost  -2819.478 2385.059 -1.182 0.237 -7494.108 1855.153\n",
      "Group Var                                             125003.790   83.999                                \n",
      "=========================================================================================================\n",
      "\n",
      "VST raw_sw_acc_cost                                 Mixed Linear Model Regression Results\n",
      "======================================================================================================\n",
      "Model:                           MixedLM                Dependent Variable:                lag        \n",
      "No. Observations:                219                    Method:                            REML       \n",
      "No. Groups:                      73                     Scale:                             424561.1608\n",
      "Min. group size:                 3                      Log-Likelihood:                    -1712.4010 \n",
      "Max. group size:                 3                      Converged:                         Yes        \n",
      "Mean group size:                 3.0                                                                  \n",
      "------------------------------------------------------------------------------------------------------\n",
      "                                                     Coef.    Std.Err.   z    P>|z|   [0.025   0.975] \n",
      "------------------------------------------------------------------------------------------------------\n",
      "Intercept                                             190.842  132.548  1.440 0.150   -68.949  450.632\n",
      "C(drug, Treatment('plac'))[T.brom]                   -294.444  167.963 -1.753 0.080  -623.645   34.757\n",
      "C(drug, Treatment('plac'))[T.tolc]                    135.545  160.228  0.846 0.398  -178.496  449.586\n",
      "raw_sw_acc_cost                                       325.951  779.110  0.418 0.676 -1201.076 1852.977\n",
      "C(drug, Treatment('plac'))[T.brom]:raw_sw_acc_cost   1063.864 1066.887  0.997 0.319 -1027.196 3154.925\n",
      "C(drug, Treatment('plac'))[T.tolc]:raw_sw_acc_cost  -2252.158  971.814 -2.317 0.020 -4156.879 -347.438\n",
      "Group Var                                          134976.803   87.610                                \n",
      "======================================================================================================\n",
      "\n",
      "VST transf_nonrep_errs                                   Mixed Linear Model Regression Results\n",
      "=========================================================================================================\n",
      "Model:                            MixedLM                 Dependent Variable:                 lag        \n",
      "No. Observations:                 219                     Method:                             REML       \n",
      "No. Groups:                       73                      Scale:                              442759.2865\n",
      "Min. group size:                  3                       Log-Likelihood:                     -1715.9382 \n",
      "Max. group size:                  3                       Converged:                          Yes        \n",
      "Mean group size:                  3.0                                                                    \n",
      "---------------------------------------------------------------------------------------------------------\n",
      "                                                        Coef.    Std.Err.   z    P>|z|   [0.025   0.975] \n",
      "---------------------------------------------------------------------------------------------------------\n",
      "Intercept                                                203.147  193.944  1.047 0.295  -176.977  583.271\n",
      "C(drug, Treatment('plac'))[T.brom]                      -201.163  251.904 -0.799 0.425  -694.886  292.561\n",
      "C(drug, Treatment('plac'))[T.tolc]                       281.518  241.603  1.165 0.244  -192.015  755.051\n",
      "transf_nonrep_errs                                        93.708  551.933  0.170 0.865  -988.062 1175.478\n",
      "C(drug, Treatment('plac'))[T.brom]:transf_nonrep_errs     80.089  730.467  0.110 0.913 -1351.599 1511.778\n",
      "C(drug, Treatment('plac'))[T.tolc]:transf_nonrep_errs  -1366.788  703.073 -1.944 0.052 -2744.786   11.210\n",
      "Group Var                                             124612.706   83.772                                \n",
      "=========================================================================================================\n",
      "\n"
     ]
    },
    {
     "name": "stdout",
     "output_type": "stream",
     "text": [
      "VST transf_rep_errs                                 Mixed Linear Model Regression Results\n",
      "======================================================================================================\n",
      "Model:                           MixedLM                Dependent Variable:                lag        \n",
      "No. Observations:                219                    Method:                            REML       \n",
      "No. Groups:                      73                     Scale:                             380398.6687\n",
      "Min. group size:                 3                      Log-Likelihood:                    -1706.7678 \n",
      "Max. group size:                 3                      Converged:                         Yes        \n",
      "Mean group size:                 3.0                                                                  \n",
      "------------------------------------------------------------------------------------------------------\n",
      "                                                     Coef.    Std.Err.   z    P>|z|   [0.025   0.975] \n",
      "------------------------------------------------------------------------------------------------------\n",
      "Intercept                                            -145.239  152.594 -0.952 0.341  -444.319  153.840\n",
      "C(drug, Treatment('plac'))[T.brom]                   -274.678  185.580 -1.480 0.139  -638.409   89.052\n",
      "C(drug, Treatment('plac'))[T.tolc]                    253.457  193.798  1.308 0.191  -126.381  633.294\n",
      "transf_rep_errs                                      1950.274  649.694  3.002 0.003   676.898 3223.649\n",
      "C(drug, Treatment('plac'))[T.brom]:transf_rep_errs    941.488  864.212  1.089 0.276  -752.335 2635.312\n",
      "C(drug, Treatment('plac'))[T.tolc]:transf_rep_errs  -1961.194  883.141 -2.221 0.026 -3692.118 -230.270\n",
      "Group Var                                          163619.008   98.605                                \n",
      "======================================================================================================\n",
      "\n"
     ]
    }
   ],
   "source": [
    "tests = [ 'raw_distr_cost', 'raw_sw_cost',\n",
    "       'raw_distr_acc_cost',\n",
    "       'raw_sw_acc_cost','transf_nonrep_errs', 'transf_rep_errs']\n",
    "new_var_labels = []\n",
    "p_values = {'variable':[],'pvalues':[]}\n",
    "for test in tests:\n",
    "    \n",
    "    if '.' in test:\n",
    "        \n",
    "        var = '_'.join(test.split('.'))\n",
    "        plac_lags[var] = plac_lags[test]\n",
    "    \n",
    "    else:\n",
    "        var = test\n",
    "        \n",
    "    \n",
    "    new_var_labels.append(var)\n",
    "    for roi in ['VST']:\n",
    "\n",
    "        roi_lags = lags[lags['roi'] == roi].copy().reset_index()\n",
    "        \n",
    "        roi_lags = roi_lags.dropna(subset = var)            \n",
    "        \n",
    "        md = smf.mixedlm(\"lag ~C(drug, Treatment('plac'))*\" + var, roi_lags, \n",
    "                 groups=roi_lags[\"sub\"]).fit()\n",
    "        \n",
    "        p_values['pvalues'].append(md.pvalues[var])\n",
    "        p_values['variable'].append(var)\n",
    "        \n",
    "        print(roi,var,md.summary())\n",
    "p_values = pd.DataFrame(p_values)"
   ]
  },
  {
   "cell_type": "code",
   "execution_count": 7,
   "id": "8322dc70",
   "metadata": {},
   "outputs": [
    {
     "data": {
      "text/html": [
       "<div>\n",
       "<style scoped>\n",
       "    .dataframe tbody tr th:only-of-type {\n",
       "        vertical-align: middle;\n",
       "    }\n",
       "\n",
       "    .dataframe tbody tr th {\n",
       "        vertical-align: top;\n",
       "    }\n",
       "\n",
       "    .dataframe thead th {\n",
       "        text-align: right;\n",
       "    }\n",
       "</style>\n",
       "<table border=\"1\" class=\"dataframe\">\n",
       "  <thead>\n",
       "    <tr style=\"text-align: right;\">\n",
       "      <th></th>\n",
       "      <th>variable</th>\n",
       "      <th>pvalues</th>\n",
       "      <th>p_fdr</th>\n",
       "    </tr>\n",
       "  </thead>\n",
       "  <tbody>\n",
       "    <tr>\n",
       "      <th>0</th>\n",
       "      <td>raw_distr_cost</td>\n",
       "      <td>0.592846</td>\n",
       "      <td>0.865182</td>\n",
       "    </tr>\n",
       "    <tr>\n",
       "      <th>1</th>\n",
       "      <td>raw_sw_cost</td>\n",
       "      <td>0.636068</td>\n",
       "      <td>0.865182</td>\n",
       "    </tr>\n",
       "    <tr>\n",
       "      <th>2</th>\n",
       "      <td>raw_distr_acc_cost</td>\n",
       "      <td>0.852383</td>\n",
       "      <td>0.865182</td>\n",
       "    </tr>\n",
       "    <tr>\n",
       "      <th>3</th>\n",
       "      <td>raw_sw_acc_cost</td>\n",
       "      <td>0.675682</td>\n",
       "      <td>0.865182</td>\n",
       "    </tr>\n",
       "    <tr>\n",
       "      <th>4</th>\n",
       "      <td>transf_nonrep_errs</td>\n",
       "      <td>0.865182</td>\n",
       "      <td>0.865182</td>\n",
       "    </tr>\n",
       "    <tr>\n",
       "      <th>5</th>\n",
       "      <td>transf_rep_errs</td>\n",
       "      <td>0.002684</td>\n",
       "      <td>0.016101</td>\n",
       "    </tr>\n",
       "  </tbody>\n",
       "</table>\n",
       "</div>"
      ],
      "text/plain": [
       "             variable   pvalues     p_fdr\n",
       "0      raw_distr_cost  0.592846  0.865182\n",
       "1         raw_sw_cost  0.636068  0.865182\n",
       "2  raw_distr_acc_cost  0.852383  0.865182\n",
       "3     raw_sw_acc_cost  0.675682  0.865182\n",
       "4  transf_nonrep_errs  0.865182  0.865182\n",
       "5     transf_rep_errs  0.002684  0.016101"
      ]
     },
     "execution_count": 7,
     "metadata": {},
     "output_type": "execute_result"
    }
   ],
   "source": [
    "sig, p = statsmodels.stats.multitest.fdrcorrection(p_values['pvalues'])\n",
    "p_values['p_fdr'] = p\n",
    "p_values"
   ]
  },
  {
   "cell_type": "code",
   "execution_count": 8,
   "id": "5c1e7672",
   "metadata": {},
   "outputs": [
    {
     "data": {
      "text/html": [
       "<table class=\"simpletable\">\n",
       "<tr>\n",
       "       <td>Model:</td>       <td>MixedLM</td> <td>Dependent Variable:</td>     <td>lag</td>    \n",
       "</tr>\n",
       "<tr>\n",
       "  <td>No. Observations:</td>   <td>219</td>         <td>Method:</td>          <td>REML</td>    \n",
       "</tr>\n",
       "<tr>\n",
       "     <td>No. Groups:</td>      <td>73</td>          <td>Scale:</td>        <td>376896.7734</td>\n",
       "</tr>\n",
       "<tr>\n",
       "  <td>Min. group size:</td>     <td>3</td>      <td>Log-Likelihood:</td>   <td>-1686.3152</td> \n",
       "</tr>\n",
       "<tr>\n",
       "  <td>Max. group size:</td>     <td>3</td>        <td>Converged:</td>          <td>Yes</td>    \n",
       "</tr>\n",
       "<tr>\n",
       "  <td>Mean group size:</td>    <td>3.0</td>            <td></td>                <td></td>      \n",
       "</tr>\n",
       "</table>\n",
       "<table class=\"simpletable\">\n",
       "<tr>\n",
       "                           <td></td>                             <th>Coef.</th>   <th>Std.Err.</th>    <th>z</th>   <th>P>|z|</th>  <th>[0.025</th>    <th>0.975]</th> \n",
       "</tr>\n",
       "<tr>\n",
       "  <th>Intercept</th>                                           <td>-269.540</td>   <td>171.872</td> <td>-1.568</td> <td>0.117</td> <td>-606.403</td>   <td>67.323</td> \n",
       "</tr>\n",
       "<tr>\n",
       "  <th>DRD2[T.A1-]</th>                                          <td>284.454</td>   <td>172.716</td>  <td>1.647</td> <td>0.100</td>  <td>-54.062</td>   <td>622.971</td>\n",
       "</tr>\n",
       "<tr>\n",
       "  <th>C(drug, Treatment('plac'))[T.brom]</th>                   <td>-35.985</td>   <td>222.851</td> <td>-0.161</td> <td>0.872</td> <td>-472.765</td>   <td>400.794</td>\n",
       "</tr>\n",
       "<tr>\n",
       "  <th>C(drug, Treatment('plac'))[T.tolc]</th>                   <td>319.086</td>   <td>217.640</td>  <td>1.466</td> <td>0.143</td> <td>-107.481</td>   <td>745.654</td>\n",
       "</tr>\n",
       "<tr>\n",
       "  <th>DRD2[T.A1-]:C(drug, Treatment('plac'))[T.brom]</th>      <td>-420.480</td>   <td>209.346</td> <td>-2.009</td> <td>0.045</td> <td>-830.791</td>   <td>-10.169</td>\n",
       "</tr>\n",
       "<tr>\n",
       "  <th>DRD2[T.A1-]:C(drug, Treatment('plac'))[T.tolc]</th>      <td>-162.716</td>   <td>203.890</td> <td>-0.798</td> <td>0.425</td> <td>-562.333</td>   <td>236.901</td>\n",
       "</tr>\n",
       "<tr>\n",
       "  <th>transf_rep_errs</th>                                     <td>1827.534</td>   <td>649.010</td>  <td>2.816</td> <td>0.005</td>  <td>555.498</td>  <td>3099.569</td>\n",
       "</tr>\n",
       "<tr>\n",
       "  <th>C(drug, Treatment('plac'))[T.brom]:transf_rep_errs</th>   <td>799.060</td>   <td>874.563</td>  <td>0.914</td> <td>0.361</td> <td>-915.051</td>  <td>2513.171</td>\n",
       "</tr>\n",
       "<tr>\n",
       "  <th>C(drug, Treatment('plac'))[T.tolc]:transf_rep_errs</th>  <td>-1864.682</td>  <td>880.792</td> <td>-2.117</td> <td>0.034</td> <td>-3591.003</td> <td>-138.362</td>\n",
       "</tr>\n",
       "<tr>\n",
       "  <th>Group Var</th>                                          <td>163359.492</td>  <td>98.661</td>     <td></td>      <td></td>        <td></td>          <td></td>    \n",
       "</tr>\n",
       "</table><br/>\n"
      ],
      "text/latex": [
       "\\begin{table}\n",
       "\\caption{Mixed Linear Model Regression Results}\n",
       "\\label{}\n",
       "\\begin{center}\n",
       "\\begin{tabular}{llll}\n",
       "\\hline\n",
       "Model:            & MixedLM & Dependent Variable: & lag          \\\\\n",
       "No. Observations: & 219     & Method:             & REML         \\\\\n",
       "No. Groups:       & 73      & Scale:              & 376896.7734  \\\\\n",
       "Min. group size:  & 3       & Log-Likelihood:     & -1686.3152   \\\\\n",
       "Max. group size:  & 3       & Converged:          & Yes          \\\\\n",
       "Mean group size:  & 3.0     &                     &              \\\\\n",
       "\\hline\n",
       "\\end{tabular}\n",
       "\\end{center}\n",
       "\n",
       "\\begin{center}\n",
       "\\begin{tabular}{lrrrrrr}\n",
       "\\hline\n",
       "                                                     &      Coef. & Std.Err. &      z & P$> |$z$|$ &    [0.025 &   0.975]  \\\\\n",
       "\\hline\n",
       "Intercept                                            &   -269.540 &  171.872 & -1.568 &       0.117 &  -606.403 &   67.323  \\\\\n",
       "DRD2[T.A1-]                                          &    284.454 &  172.716 &  1.647 &       0.100 &   -54.062 &  622.971  \\\\\n",
       "C(drug, Treatment('plac'))[T.brom]                   &    -35.985 &  222.851 & -0.161 &       0.872 &  -472.765 &  400.794  \\\\\n",
       "C(drug, Treatment('plac'))[T.tolc]                   &    319.086 &  217.640 &  1.466 &       0.143 &  -107.481 &  745.654  \\\\\n",
       "DRD2[T.A1-]:C(drug, Treatment('plac'))[T.brom]       &   -420.480 &  209.346 & -2.009 &       0.045 &  -830.791 &  -10.169  \\\\\n",
       "DRD2[T.A1-]:C(drug, Treatment('plac'))[T.tolc]       &   -162.716 &  203.890 & -0.798 &       0.425 &  -562.333 &  236.901  \\\\\n",
       "transf\\_rep\\_errs                                    &   1827.534 &  649.010 &  2.816 &       0.005 &   555.498 & 3099.569  \\\\\n",
       "C(drug, Treatment('plac'))[T.brom]:transf\\_rep\\_errs &    799.060 &  874.563 &  0.914 &       0.361 &  -915.051 & 2513.171  \\\\\n",
       "C(drug, Treatment('plac'))[T.tolc]:transf\\_rep\\_errs &  -1864.682 &  880.792 & -2.117 &       0.034 & -3591.003 & -138.362  \\\\\n",
       "Group Var                                            & 163359.492 &   98.661 &        &             &           &           \\\\\n",
       "\\hline\n",
       "\\end{tabular}\n",
       "\\end{center}\n",
       "\\end{table}\n",
       "\\bigskip\n"
      ],
      "text/plain": [
       "<class 'statsmodels.iolib.summary2.Summary'>\n",
       "\"\"\"\n",
       "                                Mixed Linear Model Regression Results\n",
       "======================================================================================================\n",
       "Model:                           MixedLM                Dependent Variable:                lag        \n",
       "No. Observations:                219                    Method:                            REML       \n",
       "No. Groups:                      73                     Scale:                             376896.7734\n",
       "Min. group size:                 3                      Log-Likelihood:                    -1686.3152 \n",
       "Max. group size:                 3                      Converged:                         Yes        \n",
       "Mean group size:                 3.0                                                                  \n",
       "------------------------------------------------------------------------------------------------------\n",
       "                                                     Coef.    Std.Err.   z    P>|z|   [0.025   0.975] \n",
       "------------------------------------------------------------------------------------------------------\n",
       "Intercept                                            -269.540  171.872 -1.568 0.117  -606.403   67.323\n",
       "DRD2[T.A1-]                                           284.454  172.716  1.647 0.100   -54.062  622.971\n",
       "C(drug, Treatment('plac'))[T.brom]                    -35.985  222.851 -0.161 0.872  -472.765  400.794\n",
       "C(drug, Treatment('plac'))[T.tolc]                    319.086  217.640  1.466 0.143  -107.481  745.654\n",
       "DRD2[T.A1-]:C(drug, Treatment('plac'))[T.brom]       -420.480  209.346 -2.009 0.045  -830.791  -10.169\n",
       "DRD2[T.A1-]:C(drug, Treatment('plac'))[T.tolc]       -162.716  203.890 -0.798 0.425  -562.333  236.901\n",
       "transf_rep_errs                                      1827.534  649.010  2.816 0.005   555.498 3099.569\n",
       "C(drug, Treatment('plac'))[T.brom]:transf_rep_errs    799.060  874.563  0.914 0.361  -915.051 2513.171\n",
       "C(drug, Treatment('plac'))[T.tolc]:transf_rep_errs  -1864.682  880.792 -2.117 0.034 -3591.003 -138.362\n",
       "Group Var                                          163359.492   98.661                                \n",
       "======================================================================================================\n",
       "\n",
       "\"\"\""
      ]
     },
     "execution_count": 8,
     "metadata": {},
     "output_type": "execute_result"
    }
   ],
   "source": [
    "#control for DRD2\n",
    "var = 'transf_rep_errs'\n",
    "md = smf.mixedlm(\"lag ~DRD2*C(drug, Treatment('plac')) + C(drug, Treatment('plac'))*\" + var, roi_lags, \n",
    "                 groups=roi_lags[\"sub\"]).fit()\n",
    "md.summary()"
   ]
  },
  {
   "cell_type": "code",
   "execution_count": 9,
   "id": "9a94f618",
   "metadata": {},
   "outputs": [
    {
     "data": {
      "text/plain": [
       "<seaborn.axisgrid.FacetGrid at 0x7f8580646eb0>"
      ]
     },
     "execution_count": 9,
     "metadata": {},
     "output_type": "execute_result"
    },
    {
     "data": {
      "image/png": "[encoded data removed]",
      "text/plain": [
       "<Figure size 1080x360 with 3 Axes>"
      ]
     },
     "metadata": {
      "needs_background": "light"
     },
     "output_type": "display_data"
    }
   ],
   "source": [
    "var = 'transf_rep_errs'\n",
    "nacc_lags = nacc_lags.dropna(subset = var)\n",
    "sns.lmplot(x = 'lag',\n",
    "             y = var,\n",
    "           col = 'drug',\n",
    "           col_order = ['plac','brom','tolc'],\n",
    "           ci =  68,\n",
    "             data=nacc_lags)\n"
   ]
  },
  {
   "cell_type": "code",
   "execution_count": 10,
   "id": "62edbe77",
   "metadata": {},
   "outputs": [
    {
     "data": {
      "text/plain": [
       "rep_errs    0.046035\n",
       "dtype: float64"
      ]
     },
     "execution_count": 10,
     "metadata": {},
     "output_type": "execute_result"
    }
   ],
   "source": [
    "nacc_lags[['rep_errs']].mean()"
   ]
  },
  {
   "cell_type": "code",
   "execution_count": 11,
   "id": "550af219",
   "metadata": {},
   "outputs": [
    {
     "data": {
      "image/png": "[encoded data removed]",
      "text/plain": [
       "<Figure size 1080x288 with 2 Axes>"
      ]
     },
     "metadata": {
      "needs_background": "light"
     },
     "output_type": "display_data"
    }
   ],
   "source": [
    "#plotting settings\n",
    "fontsize = 14\n",
    "ticksize = fontsize*.8\n",
    "figy = 4\n",
    "width = 16\n",
    "sns.set_context('talk')\n",
    "plt.rcParams['legend.title_fontsize'] = fontsize\n",
    "plt.rcParams['legend.fontsize'] = fontsize\n",
    "\n",
    "\n",
    "fig = plt.figure(\n",
    "                figsize=(15,4))\n",
    "widths = [1,1,.5,2]\n",
    "\n",
    "gs = GridSpec(1, 4, \n",
    "              figure=fig,\n",
    "              width_ratios=widths,\n",
    "              hspace = .4,\n",
    "              wspace = .4)\n",
    "\n",
    "ax1 = fig.add_subplot(gs[0:3])\n",
    "ax2 = fig.add_subplot(gs[3:])\n",
    "\n",
    "\n",
    "plac = nacc_lags[nacc_lags['drug'] == 'plac']\n",
    "sns.regplot(x = 'lag',\n",
    "             y = 'transf_rep_errs',\n",
    "            scatter_kws={'s':30,\n",
    "                         'alpha':.8,\n",
    "                        'color':sns.color_palette()[0]},\n",
    "            color = sns.color_palette()[0],\n",
    "              ci = 68,\n",
    "            ax = ax2,\n",
    "             data=plac)\n",
    "\n",
    "ax2.set(xlabel = '$\\\\bf{NAcc\\ Hemodynamic\\ Latency}$\\n $\\it{(ms)}$',\n",
    "        ylabel = '$\\\\bf{Perseverative\\ Errors}$')\n",
    "\n",
    "ax1.axis('off')\n",
    "plt.savefig('../figs/paper/behav_correlation.png',\n",
    "                            bbox_inches = 'tight',\n",
    "            dpi = 300)"
   ]
  },
  {
   "cell_type": "code",
   "execution_count": null,
   "id": "411116cc",
   "metadata": {},
   "outputs": [],
   "source": []
  }
 ],
 "metadata": {
  "kernelspec": {
   "display_name": "Python 3 (ipykernel)",
   "language": "python",
   "name": "python3"
  },
  "language_info": {
   "codemirror_mode": {
    "name": "ipython",
    "version": 3
   },
   "file_extension": ".py",
   "mimetype": "text/x-python",
   "name": "python",
   "nbconvert_exporter": "python",
   "pygments_lexer": "ipython3",
   "version": "3.9.7"
  }
 },
 "nbformat": 4,
 "nbformat_minor": 5
}
