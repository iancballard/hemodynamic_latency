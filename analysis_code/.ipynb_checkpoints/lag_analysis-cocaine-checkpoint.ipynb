{
 "cells": [
  {
   "cell_type": "code",
   "execution_count": 1,
   "id": "3b9d7612",
   "metadata": {},
   "outputs": [],
   "source": [
    "import numpy as np\n",
    "import nibabel as nb\n",
    "import pandas as pd\n",
    "import os.path as op\n",
    "import os\n",
    "import glob\n",
    "import seaborn as sns\n",
    "import matplotlib.pyplot as plt\n",
    "import scipy.stats\n",
    "import scipy.stats\n",
    "import statsmodels.formula.api as smf\n",
    "from matplotlib.cbook import boxplot_stats\n",
    "\n",
    "%matplotlib inline"
   ]
  },
  {
   "cell_type": "code",
   "execution_count": 2,
   "id": "1d0a7932",
   "metadata": {},
   "outputs": [
    {
     "name": "stdout",
     "output_type": "stream",
     "text": [
      "group\n",
      "1.0    64\n",
      "2.0    74\n",
      "Name: counter, dtype: int64\n",
      "group\n",
      "1.0    46\n",
      "2.0    62\n",
      "Name: counter, dtype: int64\n"
     ]
    }
   ],
   "source": [
    "home_dir = '/home/despo/iballard/lags/'\n",
    "sub_file = op.join(home_dir,\n",
    "                  'cocaine_subjects.tsv')\n",
    "label_df = pd.read_csv(sub_file,delimiter = '\\t')\n",
    "label_df['counter'] = 1\n",
    "print(label_df.groupby('group').sum()['counter'])\n",
    "\n",
    "label_df = label_df[label_df['exclusion'] != 1] ##exclude author-excluded subjects\n",
    "\n",
    "group_map = {1.0:'control',\n",
    "            2.0:'cocaine'}\n",
    "\n",
    "label_df['group_label'] = [group_map[x] for x in label_df['group']]\n",
    "print(label_df.groupby('group').sum()['counter'])\n"
   ]
  },
  {
   "cell_type": "code",
   "execution_count": 3,
   "id": "a22b895f",
   "metadata": {},
   "outputs": [],
   "source": [
    "fig_dir = '/home/despo/iballard/dopa/lags/shell_analysis/cocaine/figs/'"
   ]
  },
  {
   "cell_type": "code",
   "execution_count": 4,
   "id": "375fabba",
   "metadata": {
    "scrolled": true
   },
   "outputs": [
    {
     "data": {
      "text/plain": [
       "'nacc_3'"
      ]
     },
     "execution_count": 4,
     "metadata": {},
     "output_type": "execute_result"
    }
   ],
   "source": [
    "##load masks\n",
    "mask_dir = '/home/despo/iballard/dopa/lags/shell_analysis/cocaine'\n",
    "mask_ids = {'nacc_3mm':0,\n",
    "            'nacc_1':1,\n",
    "            'nacc_2':2,\n",
    "            'nacc_3':3}\n",
    "masks = {}\n",
    "for mask in mask_ids.keys():\n",
    "    masks[mask] = nb.load(op.join(mask_dir,\n",
    "                        mask + '.nii.gz')).get_fdata().astype(bool)\n",
    "    \n",
    "mask"
   ]
  },
  {
   "cell_type": "code",
   "execution_count": 5,
   "id": "00f3ce9b",
   "metadata": {},
   "outputs": [],
   "source": [
    "lag_dir = '/home/despo/ioannis/Berkeley_research1/Daniella/dopamine/lags/cocaine_data/lags/'\n",
    "df = []\n",
    "for sub in set(label_df['participant_id']):\n",
    "\n",
    "\n",
    "    group = label_df.loc[label_df['participant_id'] == sub,'group_label'].values[0]\n",
    "\n",
    "    lag_map = op.join(lag_dir,\n",
    "                      sub,\n",
    "                     sub + '__lagtimes.nii.gz')\n",
    "\n",
    "    if op.exists(lag_map):\n",
    "        lags = nb.load(lag_map).get_fdata()\n",
    "\n",
    "        for mask in mask_ids.keys():\n",
    "\n",
    "            mean= np.median(lags[masks[mask]])\n",
    "\n",
    "\n",
    "            sub_df = pd.DataFrame({'sub':sub,\n",
    "                                  'mask':mask,\n",
    "                                  'lag':mean*1000,\n",
    "                                   'group':group,\n",
    "                                   'distance':mask_ids[mask]\n",
    "                                  }, index = [0])\n",
    "            df.append(sub_df)\n",
    "\n",
    "df = pd.concat(df)"
   ]
  },
  {
   "cell_type": "code",
   "execution_count": 6,
   "id": "bf10294b",
   "metadata": {},
   "outputs": [
    {
     "name": "stdout",
     "output_type": "stream",
     "text": [
      "/home/despo/ioannis/Berkeley_research1/Daniella/dopamine/lags/cocaine_data/fmriprep_reg/sub-046_task-rest_desc-confounds_regressors.tsv\n"
     ]
    }
   ],
   "source": [
    "spike_thr = 1.0\n",
    "\n",
    "motion_dir = '/home/despo/ioannis/Berkeley_research1/Daniella/dopamine/lags/cocaine_data/fmriprep_reg'\n",
    "motion_params = []\n",
    "for sub in set(label_df['participant_id']):\n",
    "    motion = op.join(motion_dir,\n",
    "                    sub + '_task-rest_desc-confounds_regressors.tsv')\n",
    "    \n",
    "    if op.exists(motion):\n",
    "        motion = pd.read_csv(motion,\n",
    "                            delimiter = '\\t')\n",
    "        \n",
    "        mean = np.mean(motion['framewise_displacement'])\n",
    "        spikes = motion[motion['framewise_displacement'] > spike_thr].shape[0]\n",
    "\n",
    "        sub_df = pd.DataFrame({'sub':sub,\n",
    "                              'fwd':mean,\n",
    "                              'spikes':spikes}, index = [0])\n",
    "        motion_params.append(sub_df.copy())\n",
    "    else:\n",
    "        print(motion)\n",
    "motion_params = pd.concat(motion_params)"
   ]
  },
  {
   "cell_type": "code",
   "execution_count": 7,
   "id": "c132df4c",
   "metadata": {},
   "outputs": [
    {
     "data": {
      "text/plain": [
       "group\n",
       "cocaine    40.0\n",
       "control    39.0\n",
       "Name: counter, dtype: float64"
      ]
     },
     "execution_count": 7,
     "metadata": {},
     "output_type": "execute_result"
    }
   ],
   "source": [
    "df = pd.merge(df,\n",
    "        motion_params)\n",
    "df = df[df.spikes <=5]\n",
    "len(set(df['sub']))\n",
    "df['counter'] = 1\n",
    "counter = df.groupby(['sub','group']).mean().reset_index()\n",
    "counter.groupby('group').sum()['counter']"
   ]
  },
  {
   "cell_type": "code",
   "execution_count": 8,
   "id": "09d12711",
   "metadata": {},
   "outputs": [],
   "source": [
    "colors = [\"#026c6d\", \"#f48888\",\"#fcb7b7\",'#efcbcb']\n",
    "# Set your custom color palette\n",
    "pal = sns.color_palette(colors)"
   ]
  },
  {
   "cell_type": "code",
   "execution_count": 9,
   "id": "361aadc3",
   "metadata": {},
   "outputs": [
    {
     "name": "stderr",
     "output_type": "stream",
     "text": [
      "/home/despoC/iballard/anaconda3/lib/python3.7/site-packages/ipykernel_launcher.py:8: FutureWarning: \n",
      "\n",
      "The `ci` parameter is deprecated. Use `errorbar=('ci', 68)` for the same effect.\n",
      "\n",
      "  \n"
     ]
    },
    {
     "data": {
      "text/plain": [
       "<matplotlib.legend.Legend at 0x7fa742dcc3d0>"
      ]
     },
     "execution_count": 9,
     "metadata": {},
     "output_type": "execute_result"
    },
    {
     "data": {
      "image/png": "[encoded data removed]",
      "text/plain": [
       "<Figure size 432x288 with 1 Axes>"
      ]
     },
     "metadata": {
      "needs_background": "light"
     },
     "output_type": "display_data"
    }
   ],
   "source": [
    "sns.set_context('talk')\n",
    "\n",
    "sns.pointplot(x = 'distance',\n",
    "             y = 'lag',\n",
    "             ci = 68,\n",
    "              hue = 'group',\n",
    "              palette = pal,\n",
    "             data = df)\n",
    "\n",
    "sns.despine()\n",
    "plt.ylabel('Hemodynamic lag (ms)')\n",
    "plt.xlabel('Distance from NAcc (3mm voxels)')\n",
    "plt.legend(bbox_to_anchor=(1.05, 1), loc='upper left', borderaxespad=0)\n"
   ]
  },
  {
   "cell_type": "code",
   "execution_count": 10,
   "id": "823de81d",
   "metadata": {},
   "outputs": [],
   "source": [
    "df.to_csv('./cocaine_dfs/cocaine_shell_analysis.csv')\n"
   ]
  },
  {
   "cell_type": "code",
   "execution_count": 11,
   "id": "69e5407c",
   "metadata": {},
   "outputs": [
    {
     "data": {
      "text/html": [
       "<table class=\"simpletable\">\n",
       "<tr>\n",
       "       <td>Model:</td>       <td>MixedLM</td> <td>Dependent Variable:</td>     <td>lag</td>    \n",
       "</tr>\n",
       "<tr>\n",
       "  <td>No. Observations:</td>   <td>316</td>         <td>Method:</td>          <td>REML</td>    \n",
       "</tr>\n",
       "<tr>\n",
       "     <td>No. Groups:</td>      <td>79</td>          <td>Scale:</td>        <td>170299.8322</td>\n",
       "</tr>\n",
       "<tr>\n",
       "  <td>Min. group size:</td>     <td>4</td>      <td>Log-Likelihood:</td>   <td>-2467.2626</td> \n",
       "</tr>\n",
       "<tr>\n",
       "  <td>Max. group size:</td>     <td>4</td>        <td>Converged:</td>          <td>Yes</td>    \n",
       "</tr>\n",
       "<tr>\n",
       "  <td>Mean group size:</td>    <td>4.0</td>            <td></td>                <td></td>      \n",
       "</tr>\n",
       "</table>\n",
       "<table class=\"simpletable\">\n",
       "<tr>\n",
       "                           <td></td>                             <th>Coef.</th>    <th>Std.Err.</th>    <th>z</th>   <th>P>|z|</th>  <th>[0.025</th>   <th>0.975]</th> \n",
       "</tr>\n",
       "<tr>\n",
       "  <th>Intercept</th>                                           <td>-238.196</td>    <td>196.165</td> <td>-1.214</td> <td>0.225</td> <td>-622.672</td>  <td>146.280</td>\n",
       "</tr>\n",
       "<tr>\n",
       "  <th>C(group, Treatment('control'))[T.cocaine]</th>            <td>805.422</td>    <td>275.679</td>  <td>2.922</td> <td>0.003</td>  <td>265.101</td> <td>1345.744</td>\n",
       "</tr>\n",
       "<tr>\n",
       "  <th>distance</th>                                            <td>-200.965</td>    <td>29.552</td>  <td>-6.800</td> <td>0.000</td> <td>-258.886</td> <td>-143.043</td>\n",
       "</tr>\n",
       "<tr>\n",
       "  <th>C(group, Treatment('control'))[T.cocaine]:distance</th>   <td>-14.484</td>    <td>41.531</td>  <td>-0.349</td> <td>0.727</td>  <td>-95.884</td>  <td>66.915</td> \n",
       "</tr>\n",
       "<tr>\n",
       "  <th>Group Var</th>                                          <td>1381532.199</td>  <td>640.834</td>    <td></td>      <td></td>        <td></td>         <td></td>    \n",
       "</tr>\n",
       "</table>"
      ],
      "text/plain": [
       "<class 'statsmodels.iolib.summary2.Summary'>\n",
       "\"\"\"\n",
       "                                Mixed Linear Model Regression Results\n",
       "======================================================================================================\n",
       "Model:                           MixedLM                Dependent Variable:                lag        \n",
       "No. Observations:                316                    Method:                            REML       \n",
       "No. Groups:                      79                     Scale:                             170299.8322\n",
       "Min. group size:                 4                      Log-Likelihood:                    -2467.2626 \n",
       "Max. group size:                 4                      Converged:                         Yes        \n",
       "Mean group size:                 4.0                                                                  \n",
       "------------------------------------------------------------------------------------------------------\n",
       "                                                      Coef.    Std.Err.   z    P>|z|  [0.025   0.975] \n",
       "------------------------------------------------------------------------------------------------------\n",
       "Intercept                                             -238.196  196.165 -1.214 0.225 -622.672  146.280\n",
       "C(group, Treatment('control'))[T.cocaine]              805.422  275.679  2.922 0.003  265.101 1345.744\n",
       "distance                                              -200.965   29.552 -6.800 0.000 -258.886 -143.043\n",
       "C(group, Treatment('control'))[T.cocaine]:distance     -14.484   41.531 -0.349 0.727  -95.884   66.915\n",
       "Group Var                                          1381532.199  640.834                               \n",
       "======================================================================================================\n",
       "\n",
       "\"\"\""
      ]
     },
     "execution_count": 11,
     "metadata": {},
     "output_type": "execute_result"
    }
   ],
   "source": [
    "md = smf.mixedlm(\"lag ~ C(group, Treatment('control'))*distance\", df, \n",
    "                 groups=df[\"sub\"]).fit()\n",
    "md.summary()"
   ]
  },
  {
   "cell_type": "code",
   "execution_count": 12,
   "id": "35047474",
   "metadata": {},
   "outputs": [],
   "source": [
    "##load masks\n",
    "mask_dir = '/home/despo/iballard/dopa/lags/shell_analysis/cocaine/'\n",
    "mask_ids = ['nacc_3mm',\n",
    "            'putamen_3mm',\n",
    "            'caudate_3mm',\n",
    "            'striatum_3mm',\n",
    "           'S1_3mm',\n",
    "           'OT_3mm']\n",
    "masks = {}\n",
    "for mask in mask_ids:\n",
    "    masks[mask] = nb.load(op.join(mask_dir,\n",
    "                        mask + '.nii.gz')).get_fdata().astype(bool)\n",
    "    "
   ]
  },
  {
   "cell_type": "code",
   "execution_count": 13,
   "id": "ed18d99e",
   "metadata": {},
   "outputs": [],
   "source": [
    "lag_dir = '/home/despo/ioannis/Berkeley_research1/Daniella/dopamine/lags/cocaine_data/lags/'\n",
    "df = []\n",
    "for sub in set(label_df['participant_id']):\n",
    "\n",
    "\n",
    "    group = label_df.loc[label_df['participant_id'] == sub,'group_label'].values[0]\n",
    "\n",
    "    lag_map = op.join(lag_dir,\n",
    "                      sub,\n",
    "                     sub + '__lagtimes.nii.gz')\n",
    "\n",
    "    if op.exists(lag_map):\n",
    "        lags = nb.load(lag_map).get_fdata()\n",
    "\n",
    "        for mask in mask_ids:\n",
    "\n",
    "            median= np.median(lags[masks[mask]])\n",
    "\n",
    "\n",
    "            sub_df = pd.DataFrame({'sub':sub,\n",
    "                                  'mask':mask.split('_')[0],\n",
    "                                  'lag':median*1000,\n",
    "                                   'group':group,\n",
    "                                  }, index = [0])\n",
    "            df.append(sub_df)\n",
    "\n",
    "df = pd.concat(df)"
   ]
  },
  {
   "cell_type": "code",
   "execution_count": 14,
   "id": "7f215929",
   "metadata": {},
   "outputs": [
    {
     "data": {
      "text/plain": [
       "79"
      ]
     },
     "execution_count": 14,
     "metadata": {},
     "output_type": "execute_result"
    }
   ],
   "source": [
    "df = pd.merge(df,\n",
    "        motion_params)\n",
    "df.to_csv('./cocaine_dfs/region_comparison_median.csv')\n",
    "\n",
    "df = df[df.spikes <=5]\n",
    "len(set(df['sub']))"
   ]
  },
  {
   "cell_type": "code",
   "execution_count": 14,
   "id": "bc32ab99",
   "metadata": {},
   "outputs": [
    {
     "name": "stderr",
     "output_type": "stream",
     "text": [
      "/home/despoC/iballard/anaconda3/lib/python3.7/site-packages/ipykernel_launcher.py:10: FutureWarning: \n",
      "\n",
      "The `ci` parameter is deprecated. Use `errorbar=('ci', 68)` for the same effect.\n",
      "\n",
      "  # Remove the CWD from sys.path while we load stuff.\n"
     ]
    },
    {
     "data": {
      "image/png": "[encoded data removed]",
      "text/plain": [
       "<Figure size 432x288 with 1 Axes>"
      ]
     },
     "metadata": {
      "needs_background": "light"
     },
     "output_type": "display_data"
    }
   ],
   "source": [
    "sns.set_context('talk')\n",
    "sns.pointplot(x = 'mask',\n",
    "             y = 'lag',\n",
    "             ci = 68,\n",
    "              order = ['caudate','nacc','putamen','OT','S1'],\n",
    "              hue = 'group',\n",
    "             join = False,\n",
    "                   palette = [sns.color_palette()[4],sns.color_palette()[2]],\n",
    "              dodge = .1,\n",
    "             data = df)\n",
    "sns.despine()\n",
    "plt.ylabel('Hemodynamic lag (ms)')\n",
    "plt.legend(bbox_to_anchor=(.7, .95), loc='upper left', borderaxespad=0)\n",
    "plt.savefig(op.join(fig_dir,\n",
    "                   'lag_cocaine.png'),\n",
    "            bbox_inches = 'tight',\n",
    "            dpi = 300)"
   ]
  },
  {
   "cell_type": "code",
   "execution_count": 15,
   "id": "82b1d2f1",
   "metadata": {},
   "outputs": [
    {
     "data": {
      "text/html": [
       "<table class=\"simpletable\">\n",
       "<tr>\n",
       "       <td>Model:</td>       <td>MixedLM</td> <td>Dependent Variable:</td>      <td>lag</td>    \n",
       "</tr>\n",
       "<tr>\n",
       "  <td>No. Observations:</td>   <td>158</td>         <td>Method:</td>           <td>REML</td>    \n",
       "</tr>\n",
       "<tr>\n",
       "     <td>No. Groups:</td>      <td>79</td>          <td>Scale:</td>        <td>1041949.1191</td>\n",
       "</tr>\n",
       "<tr>\n",
       "  <td>Min. group size:</td>     <td>2</td>      <td>Log-Likelihood:</td>    <td>-1302.1039</td> \n",
       "</tr>\n",
       "<tr>\n",
       "  <td>Max. group size:</td>     <td>2</td>        <td>Converged:</td>           <td>Yes</td>    \n",
       "</tr>\n",
       "<tr>\n",
       "  <td>Mean group size:</td>    <td>2.0</td>            <td></td>                 <td></td>      \n",
       "</tr>\n",
       "</table>\n",
       "<table class=\"simpletable\">\n",
       "<tr>\n",
       "                                       <td></td>                                         <th>Coef.</th>   <th>Std.Err.</th>    <th>z</th>   <th>P>|z|</th>  <th>[0.025</th>    <th>0.975]</th> \n",
       "</tr>\n",
       "<tr>\n",
       "  <th>Intercept</th>                                                                   <td>-229.988</td>   <td>174.230</td> <td>-1.320</td> <td>0.187</td> <td>-571.473</td>   <td>111.497</td>\n",
       "</tr>\n",
       "<tr>\n",
       "  <th>C(group, Treatment('control'))[T.cocaine]</th>                                    <td>789.031</td>   <td>244.854</td>  <td>3.222</td> <td>0.001</td>  <td>309.126</td>  <td>1268.935</td>\n",
       "</tr>\n",
       "<tr>\n",
       "  <th>C(mask, Treatment('nacc'))[T.S1]</th>                                            <td>-216.584</td>   <td>231.156</td> <td>-0.937</td> <td>0.349</td> <td>-669.642</td>   <td>236.475</td>\n",
       "</tr>\n",
       "<tr>\n",
       "  <th>C(group, Treatment('control'))[T.cocaine]:C(mask, Treatment('nacc'))[T.S1]</th>  <td>-870.899</td>   <td>324.855</td> <td>-2.681</td> <td>0.007</td> <td>-1507.603</td> <td>-234.195</td>\n",
       "</tr>\n",
       "<tr>\n",
       "  <th>Group Var</th>                                                                  <td>141940.497</td>  <td>148.021</td>    <td></td>      <td></td>        <td></td>          <td></td>    \n",
       "</tr>\n",
       "</table>"
      ],
      "text/plain": [
       "<class 'statsmodels.iolib.summary2.Summary'>\n",
       "\"\"\"\n",
       "                                            Mixed Linear Model Regression Results\n",
       "==============================================================================================================================\n",
       "Model:                                    MixedLM                       Dependent Variable:                       lag         \n",
       "No. Observations:                         158                           Method:                                   REML        \n",
       "No. Groups:                               79                            Scale:                                    1041949.1191\n",
       "Min. group size:                          2                             Log-Likelihood:                           -1302.1039  \n",
       "Max. group size:                          2                             Converged:                                Yes         \n",
       "Mean group size:                          2.0                                                                                 \n",
       "------------------------------------------------------------------------------------------------------------------------------\n",
       "                                                                             Coef.    Std.Err.   z    P>|z|   [0.025   0.975] \n",
       "------------------------------------------------------------------------------------------------------------------------------\n",
       "Intercept                                                                    -229.988  174.230 -1.320 0.187  -571.473  111.497\n",
       "C(group, Treatment('control'))[T.cocaine]                                     789.031  244.854  3.222 0.001   309.126 1268.935\n",
       "C(mask, Treatment('nacc'))[T.S1]                                             -216.584  231.156 -0.937 0.349  -669.642  236.475\n",
       "C(group, Treatment('control'))[T.cocaine]:C(mask, Treatment('nacc'))[T.S1]   -870.899  324.855 -2.681 0.007 -1507.603 -234.195\n",
       "Group Var                                                                  141940.497  148.021                                \n",
       "==============================================================================================================================\n",
       "\n",
       "\"\"\""
      ]
     },
     "execution_count": 15,
     "metadata": {},
     "output_type": "execute_result"
    }
   ],
   "source": [
    "sub_df = df[df['mask'].isin(['S1','nacc'])]\n",
    "md = smf.mixedlm(\"lag ~ C(group, Treatment('control'))*C(mask,Treatment('nacc'))\", sub_df, \n",
    "                 groups=sub_df[\"sub\"]).fit()\n",
    "md.summary()"
   ]
  },
  {
   "cell_type": "markdown",
   "id": "45c8d7a8",
   "metadata": {},
   "source": [
    "## classifier"
   ]
  },
  {
   "cell_type": "code",
   "execution_count": 15,
   "id": "0c127eee",
   "metadata": {},
   "outputs": [
    {
     "data": {
      "text/plain": [
       "'striatum_3mm'"
      ]
     },
     "execution_count": 15,
     "metadata": {},
     "output_type": "execute_result"
    }
   ],
   "source": [
    "##load masks\n",
    "mask_dir = '/home/despo/iballard/dopa/lags/shell_analysis/cocaine'\n",
    "mask_ids = ['striatum_3mm']\n",
    "masks = {}\n",
    "for mask in mask_ids:\n",
    "    masks[mask] = nb.load(op.join(mask_dir,\n",
    "                        mask + '.nii.gz')).get_fdata().astype(bool)\n",
    "    \n",
    "mask"
   ]
  },
  {
   "cell_type": "code",
   "execution_count": 16,
   "id": "864adfa5",
   "metadata": {},
   "outputs": [],
   "source": [
    "lag_dir = '/home/despo/ioannis/Berkeley_research1/Daniella/dopamine/lags/cocaine_data/lags/'\n",
    "df = []\n",
    "for sub in set(label_df['participant_id']):\n",
    "\n",
    "\n",
    "    group = label_df.loc[label_df['participant_id'] == sub,'group_label'].values[0]\n",
    "\n",
    "    lag_map = op.join(lag_dir,\n",
    "                      sub,\n",
    "                     sub + '__lagtimes.nii.gz')\n",
    "\n",
    "    if op.exists(lag_map):\n",
    "        lags = nb.load(lag_map).get_fdata()\n",
    "\n",
    "        for mask in mask_ids:\n",
    "\n",
    "            mask_data= lags[masks[mask]]\n",
    "\n",
    "\n",
    "            sub_df = pd.DataFrame({'sub':[sub]*len(mask_data),\n",
    "                                  'mask':[mask]*len(mask_data),\n",
    "                                  'lag':mask_data,\n",
    "                                   'voxel':np.arange(len(mask_data)),\n",
    "                                   'group':[group]*len(mask_data),\n",
    "                                  })\n",
    "            df.append(sub_df)\n",
    "\n",
    "df = pd.concat(df)"
   ]
  },
  {
   "cell_type": "code",
   "execution_count": 17,
   "id": "a3f8e44f",
   "metadata": {},
   "outputs": [],
   "source": [
    "df = pd.merge(df,\n",
    "        motion_params)\n",
    "df.to_csv('./striatal_classifier_data.csv')"
   ]
  },
  {
   "cell_type": "code",
   "execution_count": 18,
   "id": "b875d39f",
   "metadata": {},
   "outputs": [
    {
     "name": "stdout",
     "output_type": "stream",
     "text": [
      "104\n",
      "{'sub-044', 'sub-025', 'sub-008', 'sub-014', 'sub-072', 'sub-083', 'sub-010', 'sub-074', 'sub-022', 'sub-043', 'sub-047', 'sub-142', 'sub-077', 'sub-103', 'sub-028', 'sub-115', 'sub-109', 'sub-067', 'sub-073', 'sub-058', 'sub-060', 'sub-116', 'sub-061', 'sub-075', 'sub-057'}\n",
      "{6, 7, 8, 9, 10, 43, 12, 13, 14, 15, 79, 25, 28, 29, 31}\n"
     ]
    },
    {
     "data": {
      "text/plain": [
       "79"
      ]
     },
     "execution_count": 18,
     "metadata": {},
     "output_type": "execute_result"
    }
   ],
   "source": [
    "spike_threshold = 5\n",
    "df = df[df.spikes <=spike_threshold]\n",
    "len(set(df['sub']))"
   ]
  },
  {
   "cell_type": "code",
   "execution_count": 19,
   "id": "5f68f20f",
   "metadata": {},
   "outputs": [],
   "source": [
    "from sklearn.model_selection import train_test_split\n",
    "from sklearn.linear_model import LogisticRegression\n",
    "from sklearn.preprocessing import StandardScaler\n",
    "\n",
    "X = pd.pivot_table(df, values='lag',\n",
    "                         index='sub',\n",
    "                         columns='voxel')\n",
    "\n",
    "y_map = {'cocaine':1,'control':0}\n",
    "y = X.index\n",
    "y = df.groupby(['sub','group']).mean().reset_index().set_index('sub').loc[y,'group'].values\n",
    "y = np.array([y_map[n] for n in y])\n",
    "\n",
    "X = np.array(X)\n",
    "\n",
    "X = X - X.mean(1, keepdims=True)"
   ]
  },
  {
   "cell_type": "code",
   "execution_count": 20,
   "id": "07e7cd9c",
   "metadata": {},
   "outputs": [
    {
     "data": {
      "text/plain": [
       "0.6708860759493671"
      ]
     },
     "execution_count": 20,
     "metadata": {},
     "output_type": "execute_result"
    }
   ],
   "source": [
    "from sklearn.model_selection import LeaveOneOut\n",
    "scores = []\n",
    "\n",
    "loo = LeaveOneOut()\n",
    "for train, test in loo.split(X):\n",
    "\n",
    "    X_train = X[train]\n",
    "\n",
    "    scaler = StandardScaler()\n",
    "\n",
    "    scaler.fit(X_train)\n",
    "\n",
    "    X_train = scaler.transform(X_train)\n",
    "    X_test = scaler.transform(X[test])\n",
    "\n",
    "    clf = LogisticRegression(penalty = 'l1',\n",
    "                            solver='liblinear').fit(X_train, y[train])\n",
    "    scores.append(clf.score(X_test, y[test]))\n",
    "\n",
    "classifier_performance = np.mean(scores)\n",
    "\n",
    "classifier_performance"
   ]
  },
  {
   "cell_type": "code",
   "execution_count": 21,
   "id": "7b13be27",
   "metadata": {
    "scrolled": true
   },
   "outputs": [
    {
     "name": "stderr",
     "output_type": "stream",
     "text": [
      "/home/despoC/iballard/anaconda3/lib/python3.7/site-packages/ipykernel_launcher.py:8: FutureWarning: \n",
      "\n",
      "The `ci` parameter is deprecated. Use `errorbar=('ci', 68)` for the same effect.\n",
      "\n",
      "  \n"
     ]
    },
    {
     "data": {
      "image/png": "[encoded data removed]",
      "text/plain": [
       "<Figure size 144x360 with 1 Axes>"
      ]
     },
     "metadata": {
      "needs_background": "light"
     },
     "output_type": "display_data"
    }
   ],
   "source": [
    "sns.set_context('poster')\n",
    "\n",
    "plt.figure(figsize=(2,5))\n",
    "\n",
    "s = pd.DataFrame({'scores':scores})\n",
    "sns.pointplot(y = 'scores',\n",
    "              ci = 68, \n",
    "              data = s)\n",
    "plt.ylim(.5,.8)\n",
    "plt.ylabel('Classification Accuracy')\n",
    "sns.despine()\n",
    "plt.savefig(op.join(fig_dir,\n",
    "                   'classification.png'),\n",
    "            bbox_inches = 'tight',\n",
    "            dpi = 300)"
   ]
  },
  {
   "cell_type": "code",
   "execution_count": 1,
   "id": "c27aa8b0",
   "metadata": {},
   "outputs": [],
   "source": [
    "scaler = StandardScaler()\n",
    "X_mod = scaler.fit_transform(X)\n",
    "mod = clf.fit(X_mod,y)\n",
    "probs = mod.predict_log_proba(X_mod)[:,1]\n",
    "\n",
    "prob_df = df.groupby('sub').mean().reset_index()\n",
    "prob_df['logprob'] = probs\n",
    "\n",
    "label_df['sub'] = label_df['participant_id']\n",
    "\n",
    "merged = pd.merge(label_df,\n",
    "        prob_df,\n",
    "        on = ['sub'])\n",
    "\n",
    "\n",
    "\n",
    "\n",
    "var = 'tobc.day' \n",
    "sub_df = merged[merged['group_label'] == 'cocaine'].dropna(subset = ['logprob',var])\n",
    "\n",
    "sns.scatterplot(x =  'logprob',\n",
    "          y = var,\n",
    "#            ci = 68,\n",
    "          data = sub_df)\n",
    "plt.ylabel('Daily Tobacco Use')\n",
    "plt.xlabel('Log probability of \\ncocaine group membership')\n",
    "\n",
    "scipy.stats.spearmanr(sub_df['logprob'],\n",
    "                     sub_df[var])"
   ]
  },
  {
   "cell_type": "code",
   "execution_count": 31,
   "id": "01dfde54",
   "metadata": {},
   "outputs": [
    {
     "data": {
      "text/plain": [
       "SpearmanrResult(correlation=0.020854589981249123, pvalue=0.9039092168107974)"
      ]
     },
     "execution_count": 31,
     "metadata": {},
     "output_type": "execute_result"
    }
   ],
   "source": [
    "scipy.stats.spearmanr(sub_df['logprob'],\n",
    "                     sub_df[var])\n",
    "scipy.stats.spearmanr(sub_df['week.dose'],\n",
    "                     sub_df['tobc.day'])"
   ]
  },
  {
   "cell_type": "markdown",
   "id": "63bb073f",
   "metadata": {},
   "source": [
    "## Compute voxelwise preference model"
   ]
  },
  {
   "cell_type": "code",
   "execution_count": 113,
   "id": "9afb0413",
   "metadata": {},
   "outputs": [],
   "source": [
    "def compute_prefs(model, X,y, cov=None):\n",
    "    \"\"\"Invert the decoding model to get voxel preferences.\"\"\"\n",
    "    if cov is None:\n",
    "        cov = np.cov(X.T)\n",
    "    weights = model.fit(X, y).coef_.squeeze()\n",
    "    return cov.dot(weights)"
   ]
  },
  {
   "cell_type": "code",
   "execution_count": 2,
   "id": "b2a3a4a0",
   "metadata": {
    "scrolled": true
   },
   "outputs": [],
   "source": [
    "scaler = StandardScaler()\n",
    "X_mod = scaler.fit_transform(X)\n",
    "cov = np.cov(X_mod.T)\n",
    "clf = LogisticRegression(random_state=20, \n",
    "                         penalty = 'l1',\n",
    "                        solver='liblinear')\n",
    "voxel_prefs = compute_prefs(clf,X_mod,y)\n",
    "\n",
    "#null distribution\n",
    "null = []\n",
    "null_prefs = []\n",
    "y_shuffle = np.array(y)\n",
    "\n",
    "for n in range(1000):\n",
    "    \n",
    "    \n",
    "    np.random.shuffle(y_shuffle)\n",
    "    \n",
    "    #get preferences\n",
    "    clf = LogisticRegression(penalty = 'l1',\n",
    "                            solver='liblinear')\n",
    "    n_prefs = compute_prefs(clf,X_mod,y_shuffle,cov)\n",
    "    null_prefs.append(n_prefs)\n",
    "    \n",
    "    #get cross-validated score\n",
    "    scores = []\n",
    "    loo = LeaveOneOut()\n",
    "    for train, test in loo.split(X):\n",
    "\n",
    "        X_train = X[train]\n",
    "    \n",
    "        scaler = StandardScaler()\n",
    "\n",
    "        scaler.fit(X_train)\n",
    "\n",
    "        X_train = scaler.transform(X_train)\n",
    "        X_test = scaler.transform(X[test])\n",
    "\n",
    "        clf = LogisticRegression(penalty = 'l1',\n",
    "                                solver='liblinear').fit(X_train, y_shuffle[train])\n",
    "        scores.append(clf.score(X_test, y_shuffle[test]))\n",
    "    \n",
    "    null.append(np.mean(scores))\n",
    "null_prefs = np.array(null_prefs)"
   ]
  },
  {
   "cell_type": "code",
   "execution_count": 51,
   "id": "a42f8c45",
   "metadata": {},
   "outputs": [],
   "source": [
    "np.savetxt('./cocaine_dfs/null_prefs.csv',null_prefs)\n",
    "np.savetxt('./cocaine_dfs/loo_scores.csv',scores)\n",
    "np.savetxt('./cocaine_dfs/null_distribution.csv',null)\n"
   ]
  },
  {
   "cell_type": "code",
   "execution_count": 115,
   "id": "b7997833",
   "metadata": {},
   "outputs": [],
   "source": [
    "mask = 'striatum_3mm'\n",
    "striatum_mask = nb.load(op.join(mask_dir,\n",
    "                        mask + '.nii.gz')).get_fdata().astype(bool)\n",
    "x,y,z= np.indices(striatum.shape)\n",
    "\n",
    "\n",
    "\n",
    "x_loc = x[striatum_mask]\n",
    "\n",
    "x_loc = [abs(n - round(x.shape[0]/2)) for n in x_loc] #recode to medial->lateral\n",
    "\n",
    "y_loc = y[striatum_mask]\n",
    "z_loc = z[striatum_mask]\n",
    "\n",
    "loc_df = pd.DataFrame({'x':np.array(x_loc)*3,\n",
    "                      'y':np.array(y_loc)*3,\n",
    "                      'z':np.array(z_loc)*3,\n",
    "                      'prefs':voxel_prefs})\n",
    "loc_df.to_csv('./cocaine_dfs/loc_df.csv')\n"
   ]
  },
  {
   "cell_type": "code",
   "execution_count": 31,
   "id": "b0464d60",
   "metadata": {
    "scrolled": true
   },
   "outputs": [
    {
     "data": {
      "image/png": "[encoded data removed]",
      "text/plain": [
       "<Figure size 360x360 with 1 Axes>"
      ]
     },
     "metadata": {
      "needs_background": "light"
     },
     "output_type": "display_data"
    }
   ],
   "source": [
    "sns.set_context('talk')\n",
    "ax = sns.lmplot(x = 'y',\n",
    "          y = 'prefs',\n",
    "           hue = 'prefs',\n",
    "           palette = sns.diverging_palette(220, 20, n = len(set(loc_df['prefs']))),\n",
    "           aspect = 1,\n",
    "           legend = False,\n",
    "          data = loc_df)\n",
    "\n",
    "\n",
    "\n",
    "plt.ylabel('Cocaine Group Sensitivity')\n",
    "plt.xlabel('Posterior -> Anterior Coordinate (mm)')\n",
    "plt.savefig(op.join(fig_dir,\n",
    "                   'cocaine_pref_y.png'),\n",
    "            bbox_inches = 'tight',\n",
    "            dpi = 300)\n",
    "\n"
   ]
  },
  {
   "cell_type": "code",
   "execution_count": 116,
   "id": "d16053e1",
   "metadata": {},
   "outputs": [],
   "source": [
    "for var in ['x','y','z']:\n",
    "    loc_df[var] = loc_df[var] - np.mean(loc_df[var])\n",
    "    loc_df[var] = loc_df[var] / np.std(loc_df[var])"
   ]
  },
  {
   "cell_type": "code",
   "execution_count": 117,
   "id": "a60803f2",
   "metadata": {},
   "outputs": [],
   "source": [
    "null_coefficients = []\n",
    "for i in range(null_prefs.shape[0]):\n",
    "    null_loc_df = loc_df.copy()\n",
    "\n",
    "    null_loc_df['null_pref'] = null_prefs[i,:]\n",
    "    \n",
    "    md = smf.ols(\"null_pref ~ x+ y + z\", \n",
    "             null_loc_df).fit()\n",
    "    \n",
    "    #save coefficiencts\n",
    "    coeff = pd.DataFrame(md.params).reset_index()\n",
    "    coeff = coeff.rename(columns = {'index':'param',\n",
    "                           0:'value'})\n",
    "    coeff['index'] = i\n",
    "    coeff = coeff.pivot(columns = 'param',\n",
    "                values = 'value',\n",
    "                index = 'index')\n",
    "\n",
    "    null_coefficients.append(coeff.copy())\n",
    "null_coefficients = pd.concat(null_coefficients)"
   ]
  },
  {
   "cell_type": "code",
   "execution_count": 29,
   "id": "fd68c14a",
   "metadata": {
    "scrolled": true
   },
   "outputs": [
    {
     "name": "stderr",
     "output_type": "stream",
     "text": [
      "/home/despoC/iballard/anaconda3/lib/python3.7/site-packages/seaborn/_decorators.py:43: FutureWarning: Pass the following variable as a keyword arg: x. From version 0.12, the only valid positional argument will be `data`, and passing other arguments without an explicit keyword will result in an error or misinterpretation.\n",
      "  FutureWarning\n"
     ]
    },
    {
     "data": {
      "text/plain": [
       "<matplotlib.axes._subplots.AxesSubplot at 0x7fb9252e9fd0>"
      ]
     },
     "execution_count": 29,
     "metadata": {},
     "output_type": "execute_result"
    },
    {
     "data": {
      "image/png": "[encoded data removed]",
      "text/plain": [
       "<Figure size 432x288 with 1 Axes>"
      ]
     },
     "metadata": {
      "needs_background": "light"
     },
     "output_type": "display_data"
    }
   ],
   "source": [
    "sns.violinplot(null_coefficients['y'])"
   ]
  },
  {
   "cell_type": "code",
   "execution_count": 121,
   "id": "a167957e",
   "metadata": {},
   "outputs": [
    {
     "data": {
      "text/html": [
       "<table class=\"simpletable\">\n",
       "<caption>OLS Regression Results</caption>\n",
       "<tr>\n",
       "  <th>Dep. Variable:</th>          <td>prefs</td>      <th>  R-squared:         </th> <td>   0.527</td> \n",
       "</tr>\n",
       "<tr>\n",
       "  <th>Model:</th>                   <td>OLS</td>       <th>  Adj. R-squared:    </th> <td>   0.525</td> \n",
       "</tr>\n",
       "<tr>\n",
       "  <th>Method:</th>             <td>Least Squares</td>  <th>  F-statistic:       </th> <td>   276.6</td> \n",
       "</tr>\n",
       "<tr>\n",
       "  <th>Date:</th>             <td>Fri, 16 Aug 2024</td> <th>  Prob (F-statistic):</th> <td>1.14e-120</td>\n",
       "</tr>\n",
       "<tr>\n",
       "  <th>Time:</th>                 <td>17:54:46</td>     <th>  Log-Likelihood:    </th> <td> -407.29</td> \n",
       "</tr>\n",
       "<tr>\n",
       "  <th>No. Observations:</th>      <td>   750</td>      <th>  AIC:               </th> <td>   822.6</td> \n",
       "</tr>\n",
       "<tr>\n",
       "  <th>Df Residuals:</th>          <td>   746</td>      <th>  BIC:               </th> <td>   841.1</td> \n",
       "</tr>\n",
       "<tr>\n",
       "  <th>Df Model:</th>              <td>     3</td>      <th>                     </th>     <td> </td>    \n",
       "</tr>\n",
       "<tr>\n",
       "  <th>Covariance Type:</th>      <td>nonrobust</td>    <th>                     </th>     <td> </td>    \n",
       "</tr>\n",
       "</table>\n",
       "<table class=\"simpletable\">\n",
       "<tr>\n",
       "      <td></td>         <th>coef</th>     <th>std err</th>      <th>t</th>      <th>P>|t|</th>  <th>[0.025</th>    <th>0.975]</th>  \n",
       "</tr>\n",
       "<tr>\n",
       "  <th>Intercept</th> <td>    0.0376</td> <td>    0.015</td> <td>    2.466</td> <td> 0.014</td> <td>    0.008</td> <td>    0.068</td>\n",
       "</tr>\n",
       "<tr>\n",
       "  <th>x</th>         <td>   -0.0204</td> <td>    0.020</td> <td>   -1.030</td> <td> 0.303</td> <td>   -0.059</td> <td>    0.018</td>\n",
       "</tr>\n",
       "<tr>\n",
       "  <th>y</th>         <td>    0.4329</td> <td>    0.020</td> <td>   21.480</td> <td> 0.000</td> <td>    0.393</td> <td>    0.472</td>\n",
       "</tr>\n",
       "<tr>\n",
       "  <th>z</th>         <td>    0.0955</td> <td>    0.016</td> <td>    6.058</td> <td> 0.000</td> <td>    0.065</td> <td>    0.126</td>\n",
       "</tr>\n",
       "</table>\n",
       "<table class=\"simpletable\">\n",
       "<tr>\n",
       "  <th>Omnibus:</th>       <td> 4.649</td> <th>  Durbin-Watson:     </th> <td>   0.855</td>\n",
       "</tr>\n",
       "<tr>\n",
       "  <th>Prob(Omnibus):</th> <td> 0.098</td> <th>  Jarque-Bera (JB):  </th> <td>   4.690</td>\n",
       "</tr>\n",
       "<tr>\n",
       "  <th>Skew:</th>          <td> 0.174</td> <th>  Prob(JB):          </th> <td>  0.0959</td>\n",
       "</tr>\n",
       "<tr>\n",
       "  <th>Kurtosis:</th>      <td> 2.831</td> <th>  Cond. No.          </th> <td>    2.19</td>\n",
       "</tr>\n",
       "</table><br/><br/>Notes:<br/>[1] Standard Errors assume that the covariance matrix of the errors is correctly specified."
      ],
      "text/plain": [
       "<class 'statsmodels.iolib.summary.Summary'>\n",
       "\"\"\"\n",
       "                            OLS Regression Results                            \n",
       "==============================================================================\n",
       "Dep. Variable:                  prefs   R-squared:                       0.527\n",
       "Model:                            OLS   Adj. R-squared:                  0.525\n",
       "Method:                 Least Squares   F-statistic:                     276.6\n",
       "Date:                Fri, 16 Aug 2024   Prob (F-statistic):          1.14e-120\n",
       "Time:                        17:54:46   Log-Likelihood:                -407.29\n",
       "No. Observations:                 750   AIC:                             822.6\n",
       "Df Residuals:                     746   BIC:                             841.1\n",
       "Df Model:                           3                                         \n",
       "Covariance Type:            nonrobust                                         \n",
       "==============================================================================\n",
       "                 coef    std err          t      P>|t|      [0.025      0.975]\n",
       "------------------------------------------------------------------------------\n",
       "Intercept      0.0376      0.015      2.466      0.014       0.008       0.068\n",
       "x             -0.0204      0.020     -1.030      0.303      -0.059       0.018\n",
       "y              0.4329      0.020     21.480      0.000       0.393       0.472\n",
       "z              0.0955      0.016      6.058      0.000       0.065       0.126\n",
       "==============================================================================\n",
       "Omnibus:                        4.649   Durbin-Watson:                   0.855\n",
       "Prob(Omnibus):                  0.098   Jarque-Bera (JB):                4.690\n",
       "Skew:                           0.174   Prob(JB):                       0.0959\n",
       "Kurtosis:                       2.831   Cond. No.                         2.19\n",
       "==============================================================================\n",
       "\n",
       "Notes:\n",
       "[1] Standard Errors assume that the covariance matrix of the errors is correctly specified.\n",
       "\"\"\""
      ]
     },
     "execution_count": 121,
     "metadata": {},
     "output_type": "execute_result"
    }
   ],
   "source": [
    "md = smf.ols(\"prefs ~ x + y + z\", \n",
    "            loc_df).fit()\n",
    "md.summary()"
   ]
  },
  {
   "cell_type": "code",
   "execution_count": 122,
   "id": "397a49ef",
   "metadata": {},
   "outputs": [
    {
     "name": "stdout",
     "output_type": "stream",
     "text": [
      "x 0.558\n",
      "y 0.027\n",
      "z 0.204\n"
     ]
    }
   ],
   "source": [
    "for var in ['x','y','z']:\n",
    "    \n",
    "    print(var, sum(md.params[var] < null_coefficients[var]) / null_coefficients.shape[0])"
   ]
  }
 ],
 "metadata": {
  "kernelspec": {
   "display_name": "Python 3 (ipykernel)",
   "language": "python",
   "name": "python3"
  },
  "language_info": {
   "codemirror_mode": {
    "name": "ipython",
    "version": 3
   },
   "file_extension": ".py",
   "mimetype": "text/x-python",
   "name": "python",
   "nbconvert_exporter": "python",
   "pygments_lexer": "ipython3",
   "version": "3.9.7"
  }
 },
 "nbformat": 4,
 "nbformat_minor": 5
}
