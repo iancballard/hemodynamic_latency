{
 "cells": [
  {
   "cell_type": "code",
   "execution_count": 1,
   "id": "90e77935",
   "metadata": {},
   "outputs": [],
   "source": [
    "import numpy as np\n",
    "import nibabel as nb\n",
    "import pandas as pd\n",
    "import os.path as op\n",
    "import os\n",
    "import glob\n",
    "import seaborn as sns\n",
    "import matplotlib.pyplot as plt\n",
    "import scipy.stats\n",
    "%matplotlib inline"
   ]
  },
  {
   "cell_type": "code",
   "execution_count": 2,
   "id": "9a6f5a09",
   "metadata": {},
   "outputs": [],
   "source": [
    "home_dir = '/home/despo/iballard/dopa/'\n",
    "sub_list = np.loadtxt(op.join(home_dir,'subjects.txt'),str)\n",
    "bad_subs = ['Da216'] #missing placebo fMRI\n",
    "sub_list = [x for x in sub_list if x not in bad_subs]\n",
    "\n",
    "sub_key = pd.read_csv(op.join(home_dir,\n",
    "                              'data',\n",
    "                              'session_drug_key.csv')).set_index(['subject','session'])\n"
   ]
  },
  {
   "cell_type": "code",
   "execution_count": 3,
   "id": "2d929e46",
   "metadata": {},
   "outputs": [
    {
     "data": {
      "text/plain": [
       "'nacc_3'"
      ]
     },
     "execution_count": 3,
     "metadata": {},
     "output_type": "execute_result"
    }
   ],
   "source": [
    "##load masks\n",
    "mask_dir = '/home/despo/iballard/dopa/lags/shell_analysis/'\n",
    "mask_ids = {'nacc':0,\n",
    "            'nacc_1':1,\n",
    "            'nacc_2':2,\n",
    "            'nacc_3':3}\n",
    "masks = {}\n",
    "for mask in mask_ids.keys():\n",
    "    masks[mask] = nb.load(op.join(mask_dir,\n",
    "                        mask + '.nii.gz')).get_fdata().astype(bool)\n",
    "    \n",
    "mask"
   ]
  },
  {
   "cell_type": "code",
   "execution_count": 4,
   "id": "331d8928",
   "metadata": {},
   "outputs": [],
   "source": [
    "lag_dir = '/home/despo/ioannis/Berkeley_research1/Daniella/dopamine/lags/data/'\n",
    "df = []\n",
    "for sub in glob.glob(lag_dir + '/Da*'):\n",
    "    \n",
    "    \n",
    "    sub_id = sub.split('/')[-1]\n",
    "    \n",
    "    try:\n",
    "    \n",
    "        sub_name = sub_id.split('_')[0]\n",
    "        session = sub_id.split('_')[1]\n",
    "        drug = sub_key.loc[(int(sub_name[2:]),int(session)),'drug']\n",
    "        \n",
    "        lag_map = op.join(sub,\n",
    "                         'rapidtide_mask_gb_back_run_clean_afni_v5',\n",
    "                         sub_id + '_rapidtide_mask_gb_back_clean_afni_v5_lagtimes.nii.gz')\n",
    "\n",
    "\n",
    "        if op.exists(lag_map):\n",
    "            lags = nb.load(lag_map).get_fdata()\n",
    "            \n",
    "            for mask in mask_ids.keys():\n",
    "                \n",
    "\n",
    "                roi_lags = lags[masks[mask]]\n",
    "                roi_lags = [x for x in roi_lags if x!=0] #drop lags not in lag map (which have lag=0)\n",
    "                median= np.median(roi_lags)\n",
    "                \n",
    "                sub_df = pd.DataFrame({'sub':sub_name,\n",
    "                                      'session':session,\n",
    "                                      'mask':mask,\n",
    "                                      'lag':median*1000,\n",
    "                                       'drug':drug,\n",
    "                                       'distance':mask_ids[mask]\n",
    "                                      }, index = [0])\n",
    "                df.append(sub_df)\n",
    "                \n",
    "    except:\n",
    "        print(sub)\n",
    "df = pd.concat(df)"
   ]
  },
  {
   "cell_type": "code",
   "execution_count": 5,
   "id": "6b1457c2",
   "metadata": {},
   "outputs": [],
   "source": [
    "colors = [\"#026c6d\", \"#f48888\",\"#fcb7b7\",'#efcbcb']\n",
    "# Set your custom color palette\n",
    "pal = sns.set_palette(sns.color_palette(colors))\n",
    "\n"
   ]
  },
  {
   "cell_type": "code",
   "execution_count": 6,
   "id": "b1acfa86",
   "metadata": {},
   "outputs": [
    {
     "name": "stdout",
     "output_type": "stream",
     "text": [
      "distance\n",
      "0    328.940617\n",
      "1     69.059918\n",
      "2   -220.571006\n",
      "3   -509.789190\n",
      "Name: lag, dtype: float64\n"
     ]
    },
    {
     "name": "stderr",
     "output_type": "stream",
     "text": [
      "/home/despoC/iballard/anaconda3/lib/python3.7/site-packages/ipykernel_launcher.py:10: FutureWarning: \n",
      "\n",
      "The `ci` parameter is deprecated. Use `errorbar=('ci', 0)` for the same effect.\n",
      "\n",
      "  # Remove the CWD from sys.path while we load stuff.\n",
      "/home/despoC/iballard/anaconda3/lib/python3.7/site-packages/ipykernel_launcher.py:22: FutureWarning: \n",
      "\n",
      "The `ci` parameter is deprecated. Use `errorbar=('ci', 68)` for the same effect.\n",
      "\n"
     ]
    },
    {
     "data": {
      "text/plain": [
       "<matplotlib.legend.Legend at 0x7fab3c4cfc90>"
      ]
     },
     "execution_count": 6,
     "metadata": {},
     "output_type": "execute_result"
    },
    {
     "data": {
      "image/png": "[encoded data removed]",
      "text/plain": [
       "<Figure size 432x288 with 1 Axes>"
      ]
     },
     "metadata": {
      "needs_background": "light"
     },
     "output_type": "display_data"
    }
   ],
   "source": [
    "sns.set_context('talk')\n",
    "fig_df = df[df['drug'] == 'plac']\n",
    "print(fig_df.groupby('distance')['lag'].mean())\n",
    "ax = sns.pointplot(x = 'distance',\n",
    "             y = 'lag',\n",
    "              color = 'grey',\n",
    "             ci = 0,\n",
    "              linestyles=':',\n",
    "              palette = pal,\n",
    "             data = fig_df)\n",
    "points = ax.collections[0]\n",
    "size = points.get_sizes().item()\n",
    "new_sizes = [0 for name in ax.get_yticklabels()]\n",
    "points.set_sizes(new_sizes)\n",
    "\n",
    "sns.pointplot(x = 'distance',\n",
    "             y = 'lag',\n",
    "             ci = 68,\n",
    "              hue = 'distance',\n",
    "              palette = pal,\n",
    "             data = fig_df,\n",
    "             ax = ax)\n",
    "\n",
    "sns.despine()\n",
    "plt.ylabel('Hemodynamic lag (ms)')\n",
    "plt.xlabel('Distance from NAcc (3mm voxels)')\n",
    "plt.legend(bbox_to_anchor=(1.05, 1), loc='upper left', borderaxespad=0)\n"
   ]
  },
  {
   "cell_type": "code",
   "execution_count": 7,
   "id": "c9ecb7d6",
   "metadata": {},
   "outputs": [],
   "source": [
    "df.to_csv('./final_csvs/shell_data_dopa.csv', index = False)"
   ]
  },
  {
   "cell_type": "markdown",
   "id": "c5ad5362",
   "metadata": {},
   "source": [
    "# Artery proximity analysis"
   ]
  },
  {
   "cell_type": "code",
   "execution_count": 8,
   "id": "b7fd8893",
   "metadata": {},
   "outputs": [],
   "source": [
    "artery = nb.load(op.join('/home/despo/iballard/dopa/lags/niftis/vesselProbs_2mm_susan_8mm_resampled.nii.gz')).get_fdata()\n",
    "striatum = nb.load(op.join('/home/despo/iballard/dopa/lags/niftis/striatum_3mm.nii.gz')).get_fdata().astype(bool)\n",
    "gm = nb.load(op.join('/home/despo/iballard/dopa/lags/niftis/MNI-maxprob-thr50-GM_3mm_bin.nii.gz')).get_fdata().astype(bool)\n",
    "\n",
    "artery = artery[gm]"
   ]
  },
  {
   "cell_type": "code",
   "execution_count": 9,
   "id": "0484a36b",
   "metadata": {},
   "outputs": [],
   "source": [
    "lag_dir = '/home/despo/ioannis/Berkeley_research1/Daniella/dopamine/lags/data/'\n",
    "art_df = []\n",
    "for sub in glob.glob(lag_dir + '/Da*'):\n",
    "    \n",
    "    \n",
    "    sub_id = sub.split('/')[-1]\n",
    "        \n",
    "    sub_name = sub_id.split('_')[0]\n",
    "    session = sub_id.split('_')[1]\n",
    "    drug = sub_key.loc[(int(sub_name[2:]),int(session)),'drug']\n",
    "\n",
    "    lag_map = op.join(sub,\n",
    "                     'rapidtide_mask_gb_back_run_clean_afni_v5',\n",
    "                     sub_id + '_rapidtide_mask_gb_back_clean_afni_v5_lagtimes.nii.gz')\n",
    "\n",
    "\n",
    "    if op.exists(lag_map):\n",
    "        lags = nb.load(lag_map).get_fdata()\n",
    "\n",
    "\n",
    "        lags= lags[gm]\n",
    "\n",
    "        corr = scipy.stats.spearmanr(lags,artery)[0]\n",
    "\n",
    "\n",
    "        sub_df = pd.DataFrame({'sub':sub_name,\n",
    "                              'session':session,\n",
    "                              'corr':corr,\n",
    "                               'drug':drug,\n",
    "                              }, index = [0])\n",
    "        art_df.append(sub_df)\n",
    "\n",
    "art_df = pd.concat(art_df)\n",
    "art_df.to_csv('./final_csvs/artery_data.csv', \n",
    "              index = False)"
   ]
  },
  {
   "cell_type": "code",
   "execution_count": 10,
   "id": "32b049eb",
   "metadata": {
    "scrolled": false
   },
   "outputs": [
    {
     "data": {
      "text/plain": [
       "Text(-38.625, 0.5, 'Lag correlation\\nwith artery proximity')"
      ]
     },
     "execution_count": 10,
     "metadata": {},
     "output_type": "execute_result"
    },
    {
     "data": {
      "image/png": "[encoded data removed]",
      "text/plain": [
       "<Figure size 144x288 with 1 Axes>"
      ]
     },
     "metadata": {
      "needs_background": "light"
     },
     "output_type": "display_data"
    }
   ],
   "source": [
    "sns.set_context('talk')\n",
    "f, ax = plt.subplots(figsize=(2,4))\n",
    "\n",
    "\n",
    "art_df = art_df[art_df['drug'] == 'plac']\n",
    "sns.swarmplot(\n",
    "             y = 'corr',\n",
    "    data = art_df)\n",
    "sns.despine()\n",
    "plt.ylabel('Lag correlation\\nwith artery proximity')\n"
   ]
  },
  {
   "cell_type": "code",
   "execution_count": 11,
   "id": "b14f6996",
   "metadata": {},
   "outputs": [],
   "source": [
    "mask_dir = '/home/despo/iballard/dopa/lags/shell_analysis'\n",
    "mask_ids = {'nacc_3mm':0,\n",
    "            'nacc_caud_1':1,\n",
    "            'nacc_caud_2':2,\n",
    "            'nacc_caud_3':3,\n",
    "           'nacc_caud_4':4,\n",
    "           'nacc_put_1':1,\n",
    "            'nacc_put_2':2,\n",
    "            'nacc_put_3':3,\n",
    "           'nacc_put_4':4}\n",
    "masks = {}\n",
    "for mask in mask_ids.keys():\n",
    "    if 'caud' in mask:\n",
    "        masks[mask] = nb.load(op.join(mask_dir,\n",
    "                                      'caudate_border',\n",
    "                            mask + '.nii.gz')).get_fdata().astype(bool)\n",
    "    else:\n",
    "        masks[mask] = nb.load(op.join(mask_dir,\n",
    "                                      'putamen_border',\n",
    "                            mask + '.nii.gz')).get_fdata().astype(bool)"
   ]
  },
  {
   "cell_type": "code",
   "execution_count": 12,
   "id": "7c379482",
   "metadata": {},
   "outputs": [],
   "source": [
    "lag_dir = '/home/despo/ioannis/Berkeley_research1/Daniella/dopamine/lags/data/'\n",
    "df = []\n",
    "for sub in glob.glob(lag_dir + '/Da*'):\n",
    "    \n",
    "    \n",
    "    sub_id = sub.split('/')[-1]\n",
    "    \n",
    "    try:\n",
    "    \n",
    "        sub_name = sub_id.split('_')[0]\n",
    "        session = sub_id.split('_')[1]\n",
    "        drug = sub_key.loc[(int(sub_name[2:]),int(session)),'drug']\n",
    "        \n",
    "        lag_map = op.join(sub,\n",
    "                         'rapidtide_mask_gb_back_run_clean_afni_v5',\n",
    "                         sub_id + '_rapidtide_mask_gb_back_clean_afni_v5_lagtimes.nii.gz')\n",
    "\n",
    "\n",
    "        if op.exists(lag_map):\n",
    "            lags = nb.load(lag_map).get_fdata()\n",
    "            \n",
    "            for mask in mask_ids.keys():\n",
    "                \n",
    "                if mask == 'nacc_3mm':\n",
    "                    roi = 'nacc'\n",
    "                elif 'caud' in mask:\n",
    "                    roi = 'caudate'\n",
    "                elif 'put' in mask:\n",
    "                    roi = 'putamen'\n",
    "                    \n",
    "                \n",
    "                roi_lags = lags[masks[mask]]\n",
    "                roi_lags = [x for x in roi_lags if x!=0] #drop lags not in lag map (which have lag=0)\n",
    "                median= np.median(roi_lags)\n",
    "\n",
    "                \n",
    "                sub_df = pd.DataFrame({'sub':sub_name,\n",
    "                                      'session':session,\n",
    "                                      'mask':roi,\n",
    "                                      'lag':median*1000,\n",
    "                                       'drug':drug,\n",
    "                                       'distance':mask_ids[mask]\n",
    "                                      }, index = [0])\n",
    "                df.append(sub_df)\n",
    "                \n",
    "    except:\n",
    "        print(sub)\n",
    "df = pd.concat(df)"
   ]
  },
  {
   "cell_type": "code",
   "execution_count": 13,
   "id": "bb6db0c0",
   "metadata": {},
   "outputs": [
    {
     "name": "stderr",
     "output_type": "stream",
     "text": [
      "/home/despoC/iballard/anaconda3/lib/python3.7/site-packages/ipykernel_launcher.py:9: FutureWarning: \n",
      "\n",
      "The `ci` parameter is deprecated. Use `errorbar=('ci', 68)` for the same effect.\n",
      "\n",
      "  if __name__ == '__main__':\n"
     ]
    },
    {
     "data": {
      "text/plain": [
       "<matplotlib.legend.Legend at 0x7fab6ca93f50>"
      ]
     },
     "execution_count": 13,
     "metadata": {},
     "output_type": "execute_result"
    },
    {
     "data": {
      "image/png": "[encoded data removed]",
      "text/plain": [
       "<Figure size 432x288 with 1 Axes>"
      ]
     },
     "metadata": {
      "needs_background": "light"
     },
     "output_type": "display_data"
    }
   ],
   "source": [
    "sns.set_context('talk')\n",
    "df = df[df['drug'] == 'plac']\n",
    "sns.pointplot(x = 'distance',\n",
    "             y = 'lag',\n",
    "             hue = 'mask',\n",
    "             ci = 68,\n",
    "#              join = False,\n",
    "              dodge = .1,\n",
    "             data = df)\n",
    "sns.despine()\n",
    "plt.ylabel('Hemodynamic lag (ms)')\n",
    "plt.xlabel('Distance from NAcc (3mm voxels)')\n",
    "plt.legend(bbox_to_anchor=(1.05, 1), loc='upper left', borderaxespad=0)\n"
   ]
  },
  {
   "cell_type": "code",
   "execution_count": 14,
   "id": "76ea4bb5",
   "metadata": {},
   "outputs": [],
   "source": [
    "df.to_csv('./final_csvs/border_data.csv', index = False)"
   ]
  },
  {
   "cell_type": "code",
   "execution_count": 15,
   "id": "d49c35e5",
   "metadata": {},
   "outputs": [],
   "source": [
    "##load masks\n",
    "mask_dir = '/home/despo/iballard/dopa/lags/3mm_masks//'\n",
    "mask_ids = ['nacc_3mm',\n",
    "            'putamen_3mm',\n",
    "            'caudate_3mm',\n",
    "           'S1_3mm',\n",
    "           'OT_3mm']\n",
    "masks = {}\n",
    "for mask in mask_ids:\n",
    "    masks[mask] = nb.load(op.join(mask_dir,\n",
    "                        mask + '.nii.gz')).get_fdata().astype(bool)\n",
    "    "
   ]
  },
  {
   "cell_type": "code",
   "execution_count": 16,
   "id": "0c8c0069",
   "metadata": {},
   "outputs": [],
   "source": [
    "# lag_path = '/home/despo/ioannis/Berkeley_research1/Daniella/dopamine/lags/output_csvs/'\n",
    "lag_dir = '/home/despo/ioannis/Berkeley_research1/Daniella/dopamine/lags/data/'\n",
    "df = []\n",
    "for sub in glob.glob(lag_dir + '/Da*'):\n",
    "    \n",
    "    \n",
    "    sub_id = sub.split('/')[-1]\n",
    "    \n",
    "    try:\n",
    "    \n",
    "        sub_name = sub_id.split('_')[0]\n",
    "        session = sub_id.split('_')[1]\n",
    "        drug = sub_key.loc[(int(sub_name[2:]),int(session)),'drug']\n",
    "        \n",
    "        lag_map = op.join(sub,\n",
    "                         'rapidtide_mask_gb_back_run_clean_afni_v5',\n",
    "                         sub_id + '_rapidtide_mask_gb_back_clean_afni_v5_lagtimes.nii.gz')\n",
    "\n",
    "\n",
    "        if op.exists(lag_map):\n",
    "            lags = nb.load(lag_map).get_fdata()\n",
    "            \n",
    "            for mask in mask_ids:\n",
    "               \n",
    "                    \n",
    "                roi_lags = lags[masks[mask]]\n",
    "                roi_lags = [x for x in roi_lags if x!=0] #drop lags not in lag map (which have lag=0)\n",
    "                median= np.median(roi_lags)\n",
    "                \n",
    "                sub_df = pd.DataFrame({'sub':sub_name,\n",
    "                                      'session':session,\n",
    "                                      'mask':mask.split('_')[0],\n",
    "                                      'lag':median*1000,\n",
    "                                       'drug':drug,\n",
    "                                      }, index = [0])\n",
    "                df.append(sub_df)\n",
    "                \n",
    "    except:\n",
    "        print(sub)\n",
    "df = pd.concat(df)"
   ]
  },
  {
   "cell_type": "code",
   "execution_count": 17,
   "id": "eedc3e24",
   "metadata": {},
   "outputs": [],
   "source": [
    "df.to_csv('./final_csvs/striatum_region_lag_data.csv', index = False)"
   ]
  },
  {
   "cell_type": "code",
   "execution_count": null,
   "id": "312065ba",
   "metadata": {},
   "outputs": [],
   "source": []
  },
  {
   "cell_type": "code",
   "execution_count": null,
   "id": "68d4bfd6",
   "metadata": {},
   "outputs": [],
   "source": []
  }
 ],
 "metadata": {
  "kernelspec": {
   "display_name": "Python 3 (ipykernel)",
   "language": "python",
   "name": "python3"
  },
  "language_info": {
   "codemirror_mode": {
    "name": "ipython",
    "version": 3
   },
   "file_extension": ".py",
   "mimetype": "text/x-python",
   "name": "python",
   "nbconvert_exporter": "python",
   "pygments_lexer": "ipython3",
   "version": "3.9.7"
  }
 },
 "nbformat": 4,
 "nbformat_minor": 5
}
