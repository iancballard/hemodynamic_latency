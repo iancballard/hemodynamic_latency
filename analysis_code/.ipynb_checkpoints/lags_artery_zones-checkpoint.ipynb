{
 "cells": [
  {
   "cell_type": "code",
   "execution_count": 1,
   "id": "c994106e",
   "metadata": {},
   "outputs": [],
   "source": [
    "import numpy as np\n",
    "import nibabel as nb\n",
    "import pandas as pd\n",
    "import os.path as op\n",
    "import os\n",
    "import glob\n",
    "import seaborn as sns\n",
    "import matplotlib.pyplot as plt\n",
    "import scipy.stats\n",
    "import statsmodels.formula.api as smf\n",
    "import statsmodels.api as sm\n",
    "\n",
    "%matplotlib inline"
   ]
  },
  {
   "cell_type": "code",
   "execution_count": 2,
   "id": "7f9388a4",
   "metadata": {},
   "outputs": [],
   "source": [
    "home_dir = '/home/despo/iballard/dopa/'\n",
    "sub_list = np.loadtxt(op.join(home_dir,'subjects.txt'),str)\n",
    "bad_subs = ['Da216'] #missing placebo fMRI\n",
    "sub_list = [x for x in sub_list if x not in bad_subs]\n",
    "\n",
    "sub_key = pd.read_csv(op.join(home_dir,\n",
    "                              'data',\n",
    "                              'session_drug_key.csv')).set_index(['subject','session'])\n"
   ]
  },
  {
   "cell_type": "code",
   "execution_count": 44,
   "id": "0f44d71a",
   "metadata": {},
   "outputs": [
    {
     "data": {
      "text/plain": [
       "'MCA_GM'"
      ]
     },
     "execution_count": 44,
     "metadata": {},
     "output_type": "execute_result"
    }
   ],
   "source": [
    "##load masks\n",
    "mask_dir = '/home/despo/iballard/dopa/lags/dopa_masks/'\n",
    "mask_ids = ['ACA_GM','MCA_GM']\n",
    "masks = {}\n",
    "for mask in mask_ids:\n",
    "    data = nb.load(op.join(mask_dir,\n",
    "                        mask + '_3mm.nii.gz')).get_fdata().astype(bool)\n",
    "    \n",
    "    masks[mask] = data\n"
   ]
  },
  {
   "cell_type": "code",
   "execution_count": 45,
   "id": "ab494334",
   "metadata": {},
   "outputs": [],
   "source": [
    "lag_dir = '/home/despo/ioannis/Berkeley_research1/Daniella/dopamine/lags/data/'\n",
    "df = []\n",
    "for sub in glob.glob(lag_dir + '/Da*'):\n",
    "    \n",
    "    \n",
    "    sub_id = sub.split('/')[-1]\n",
    "\n",
    "\n",
    "    sub_name = sub_id.split('_')[0]\n",
    "    session = sub_id.split('_')[1]\n",
    "    drug = sub_key.loc[(int(sub_name[2:]),int(session)),'drug']\n",
    "\n",
    "    lag_map = op.join(sub,\n",
    "                     'rapidtide_mask_gb_back_run_clean_afni_v5',\n",
    "                     sub_id + '_rapidtide_mask_gb_back_clean_afni_v5_lagtimes.nii.gz')\n",
    "\n",
    "\n",
    "    if op.exists(lag_map):\n",
    "        lags = nb.load(lag_map).get_fdata()\n",
    "\n",
    "        for mask in mask_ids:\n",
    "\n",
    "            roi_lags = lags[masks[mask]]\n",
    "            roi_lags = [x for x in roi_lags if x!=0] #drop lags not in lag map (which have lag=0)\n",
    "            median= np.median(roi_lags)\n",
    "\n",
    "            sub_df = pd.DataFrame({'sub':[sub_name],\n",
    "                                  'session':[session],\n",
    "                                  'mask':[mask],\n",
    "                                  'lag':median,\n",
    "                                   'drug':[drug],\n",
    "                                  }, index = [0])\n",
    "            df.append(sub_df)\n",
    "\n",
    "\n",
    "df = pd.concat(df)"
   ]
  },
  {
   "cell_type": "code",
   "execution_count": 46,
   "id": "8111c636",
   "metadata": {},
   "outputs": [
    {
     "data": {
      "text/plain": [
       "<AxesSubplot:xlabel='mask', ylabel='lag'>"
      ]
     },
     "execution_count": 46,
     "metadata": {},
     "output_type": "execute_result"
    },
    {
     "data": {
      "image/png": "[encoded data removed]",
      "text/plain": [
       "<Figure size 432x288 with 1 Axes>"
      ]
     },
     "metadata": {
      "needs_background": "light"
     },
     "output_type": "display_data"
    }
   ],
   "source": [
    "plac = df[df.drug == 'plac']\n",
    "sns.pointplot(x = 'mask',\n",
    "             y = 'lag',\n",
    "            errorbar=('ci', 68),\n",
    "              data = plac)"
   ]
  },
  {
   "cell_type": "code",
   "execution_count": 47,
   "id": "e6dad272",
   "metadata": {},
   "outputs": [
    {
     "data": {
      "text/html": [
       "<table class=\"simpletable\">\n",
       "<caption>OLS Regression Results</caption>\n",
       "<tr>\n",
       "  <th>Dep. Variable:</th>           <td>lag</td>       <th>  R-squared:         </th> <td>   0.016</td>\n",
       "</tr>\n",
       "<tr>\n",
       "  <th>Model:</th>                   <td>OLS</td>       <th>  Adj. R-squared:    </th> <td>   0.009</td>\n",
       "</tr>\n",
       "<tr>\n",
       "  <th>Method:</th>             <td>Least Squares</td>  <th>  F-statistic:       </th> <td>   2.398</td>\n",
       "</tr>\n",
       "<tr>\n",
       "  <th>Date:</th>             <td>Tue, 07 Jan 2025</td> <th>  Prob (F-statistic):</th>  <td> 0.124</td> \n",
       "</tr>\n",
       "<tr>\n",
       "  <th>Time:</th>                 <td>15:32:53</td>     <th>  Log-Likelihood:    </th> <td> -56.343</td>\n",
       "</tr>\n",
       "<tr>\n",
       "  <th>No. Observations:</th>      <td>   152</td>      <th>  AIC:               </th> <td>   116.7</td>\n",
       "</tr>\n",
       "<tr>\n",
       "  <th>Df Residuals:</th>          <td>   150</td>      <th>  BIC:               </th> <td>   122.7</td>\n",
       "</tr>\n",
       "<tr>\n",
       "  <th>Df Model:</th>              <td>     1</td>      <th>                     </th>     <td> </td>   \n",
       "</tr>\n",
       "<tr>\n",
       "  <th>Covariance Type:</th>      <td>nonrobust</td>    <th>                     </th>     <td> </td>   \n",
       "</tr>\n",
       "</table>\n",
       "<table class=\"simpletable\">\n",
       "<tr>\n",
       "         <td></td>           <th>coef</th>     <th>std err</th>      <th>t</th>      <th>P>|t|</th>  <th>[0.025</th>    <th>0.975]</th>  \n",
       "</tr>\n",
       "<tr>\n",
       "  <th>Intercept</th>      <td>   -0.2644</td> <td>    0.040</td> <td>   -6.532</td> <td> 0.000</td> <td>   -0.344</td> <td>   -0.184</td>\n",
       "</tr>\n",
       "<tr>\n",
       "  <th>mask[T.MCA_GM]</th> <td>   -0.0886</td> <td>    0.057</td> <td>   -1.549</td> <td> 0.124</td> <td>   -0.202</td> <td>    0.024</td>\n",
       "</tr>\n",
       "</table>\n",
       "<table class=\"simpletable\">\n",
       "<tr>\n",
       "  <th>Omnibus:</th>       <td>53.064</td> <th>  Durbin-Watson:     </th> <td>   1.656</td>\n",
       "</tr>\n",
       "<tr>\n",
       "  <th>Prob(Omnibus):</th> <td> 0.000</td> <th>  Jarque-Bera (JB):  </th> <td> 149.723</td>\n",
       "</tr>\n",
       "<tr>\n",
       "  <th>Skew:</th>          <td>-1.388</td> <th>  Prob(JB):          </th> <td>3.08e-33</td>\n",
       "</tr>\n",
       "<tr>\n",
       "  <th>Kurtosis:</th>      <td> 6.992</td> <th>  Cond. No.          </th> <td>    2.62</td>\n",
       "</tr>\n",
       "</table><br/><br/>Notes:<br/>[1] Standard Errors assume that the covariance matrix of the errors is correctly specified."
      ],
      "text/plain": [
       "<class 'statsmodels.iolib.summary.Summary'>\n",
       "\"\"\"\n",
       "                            OLS Regression Results                            \n",
       "==============================================================================\n",
       "Dep. Variable:                    lag   R-squared:                       0.016\n",
       "Model:                            OLS   Adj. R-squared:                  0.009\n",
       "Method:                 Least Squares   F-statistic:                     2.398\n",
       "Date:                Tue, 07 Jan 2025   Prob (F-statistic):              0.124\n",
       "Time:                        15:32:53   Log-Likelihood:                -56.343\n",
       "No. Observations:                 152   AIC:                             116.7\n",
       "Df Residuals:                     150   BIC:                             122.7\n",
       "Df Model:                           1                                         \n",
       "Covariance Type:            nonrobust                                         \n",
       "==================================================================================\n",
       "                     coef    std err          t      P>|t|      [0.025      0.975]\n",
       "----------------------------------------------------------------------------------\n",
       "Intercept         -0.2644      0.040     -6.532      0.000      -0.344      -0.184\n",
       "mask[T.MCA_GM]    -0.0886      0.057     -1.549      0.124      -0.202       0.024\n",
       "==============================================================================\n",
       "Omnibus:                       53.064   Durbin-Watson:                   1.656\n",
       "Prob(Omnibus):                  0.000   Jarque-Bera (JB):              149.723\n",
       "Skew:                          -1.388   Prob(JB):                     3.08e-33\n",
       "Kurtosis:                       6.992   Cond. No.                         2.62\n",
       "==============================================================================\n",
       "\n",
       "Notes:\n",
       "[1] Standard Errors assume that the covariance matrix of the errors is correctly specified.\n",
       "\"\"\""
      ]
     },
     "execution_count": 47,
     "metadata": {},
     "output_type": "execute_result"
    }
   ],
   "source": [
    "mod = smf.ols(formula='lag ~ mask', data=plac).fit()\n",
    "mod.summary()\n"
   ]
  },
  {
   "cell_type": "code",
   "execution_count": null,
   "id": "43b4171c",
   "metadata": {},
   "outputs": [],
   "source": []
  }
 ],
 "metadata": {
  "kernelspec": {
   "display_name": "Python 3 (ipykernel)",
   "language": "python",
   "name": "python3"
  },
  "language_info": {
   "codemirror_mode": {
    "name": "ipython",
    "version": 3
   },
   "file_extension": ".py",
   "mimetype": "text/x-python",
   "name": "python",
   "nbconvert_exporter": "python",
   "pygments_lexer": "ipython3",
   "version": "3.9.7"
  }
 },
 "nbformat": 4,
 "nbformat_minor": 5
}
