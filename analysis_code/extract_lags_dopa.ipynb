{
 "cells": [
  {
   "cell_type": "code",
   "execution_count": 45,
   "id": "0a165a1d",
   "metadata": {},
   "outputs": [],
   "source": [
    "import numpy as np\n",
    "import nibabel as nb\n",
    "import pandas as pd\n",
    "import os.path as op\n",
    "import os\n",
    "import glob\n",
    "import seaborn as sns\n",
    "import matplotlib.pyplot as plt\n",
    "import scipy.stats\n",
    "%matplotlib inline"
   ]
  },
  {
   "cell_type": "code",
   "execution_count": 46,
   "id": "69f6323a",
   "metadata": {},
   "outputs": [],
   "source": [
    "home_dir = '/home/despo/iballard/dopa/'\n",
    "sub_list = np.loadtxt(op.join(home_dir,'subjects.txt'),str)\n",
    "bad_subs = ['Da216'] #missing placebo fMRI\n",
    "sub_list = [x for x in sub_list if x not in bad_subs]\n",
    "\n",
    "sub_key = pd.read_csv(op.join(home_dir,\n",
    "                              'data',\n",
    "                              'session_drug_key.csv')).set_index(['subject','session'])\n"
   ]
  },
  {
   "cell_type": "code",
   "execution_count": 47,
   "id": "f7a81e72",
   "metadata": {},
   "outputs": [
    {
     "data": {
      "text/plain": [
       "'OT'"
      ]
     },
     "execution_count": 47,
     "metadata": {},
     "output_type": "execute_result"
    }
   ],
   "source": [
    "##load masks\n",
    "mask_dir = '/home/despo/iballard/dopa/lags/dopa_masks/'\n",
    "mask_ids = ['VST','DCA','DPUT','S1','OT']\n",
    "masks = {}\n",
    "for mask in mask_ids:\n",
    "    masks[mask] = nb.load(op.join(mask_dir,\n",
    "                        mask + '_3mm.nii.gz')).get_fdata().astype(bool)\n",
    "    \n",
    "mask"
   ]
  },
  {
   "cell_type": "code",
   "execution_count": null,
   "id": "66c3cbd0",
   "metadata": {},
   "outputs": [],
   "source": [
    "lag_dir = '/home/despo/ioannis/Berkeley_research1/Daniella/dopamine/lags/data/'\n",
    "df = []\n",
    "for sub in glob.glob(lag_dir + '/Da*'):\n",
    "    \n",
    "    \n",
    "    sub_id = sub.split('/')[-1]\n",
    "\n",
    "\n",
    "    sub_name = sub_id.split('_')[0]\n",
    "    session = sub_id.split('_')[1]\n",
    "    drug = sub_key.loc[(int(sub_name[2:]),int(session)),'drug']\n",
    "\n",
    "    lag_map = op.join(sub,\n",
    "                     'rapidtide_mask_gb_back_run_clean_afni_v5',\n",
    "                     sub_id + '_rapidtide_mask_gb_back_clean_afni_v5_lagtimes.nii.gz')\n",
    "\n",
    "    if op.exists(lag_map):\n",
    "        lags = nb.load(lag_map).get_fdata()\n",
    "\n",
    "        for mask in mask_ids:\n",
    "\n",
    "            roi_lags = lags[masks[mask]]\n",
    "            roi_lags = [x for x in roi_lags if x!=0] #drop lags not in lag map (which have lag=0)\n",
    "            median= np.median(roi_lags)\n",
    "\n",
    "            sub_df = pd.DataFrame({'sub':[sub_name],\n",
    "                                  'session':[session],\n",
    "                                  'mask':[mask],\n",
    "                                  'lag':median,\n",
    "                                   'drug':[drug],\n",
    "                                  }, index = [0])\n",
    "            df.append(sub_df)\n",
    "\n",
    "\n",
    "df = pd.concat(df)"
   ]
  },
  {
   "cell_type": "code",
   "execution_count": 44,
   "id": "b9fe5013",
   "metadata": {},
   "outputs": [],
   "source": [
    "df.to_csv('../csvs/lags_pet_rois.csv',index = False)"
   ]
  },
  {
   "cell_type": "markdown",
   "id": "5f3992d2",
   "metadata": {},
   "source": [
    "# Shell analysis"
   ]
  },
  {
   "cell_type": "code",
   "execution_count": null,
   "id": "f24bd603",
   "metadata": {},
   "outputs": [],
   "source": [
    "##load masks\n",
    "mask_dir = '/home/despo/iballard/dopa/lags/shell_analysis/'\n",
    "mask_ids = {'nacc':0,\n",
    "            'nacc_1':1,\n",
    "            'nacc_2':2,\n",
    "            'nacc_3':3}\n",
    "masks = {}\n",
    "for mask in mask_ids.keys():\n",
    "    masks[mask] = nb.load(op.join(mask_dir,\n",
    "                        mask + '.nii.gz')).get_fdata().astype(bool)\n",
    "    \n",
    "mask"
   ]
  },
  {
   "cell_type": "code",
   "execution_count": null,
   "id": "ca16ee5d",
   "metadata": {},
   "outputs": [],
   "source": [
    "lag_dir = '/home/despo/ioannis/Berkeley_research1/Daniella/dopamine/lags/data/'\n",
    "df = []\n",
    "for sub in glob.glob(lag_dir + '/Da*'):\n",
    "    \n",
    "    \n",
    "    sub_id = sub.split('/')[-1]\n",
    "    \n",
    "    try:\n",
    "    \n",
    "        sub_name = sub_id.split('_')[0]\n",
    "        session = sub_id.split('_')[1]\n",
    "        drug = sub_key.loc[(int(sub_name[2:]),int(session)),'drug']\n",
    "        \n",
    "        lag_map = op.join(sub,\n",
    "                         'rapidtide_mask_gb_back_run_clean_afni_v5',\n",
    "                         sub_id + '_rapidtide_mask_gb_back_clean_afni_v5_lagtimes.nii.gz')\n",
    "\n",
    "\n",
    "        if op.exists(lag_map):\n",
    "            lags = nb.load(lag_map).get_fdata()\n",
    "            \n",
    "            for mask in mask_ids.keys():\n",
    "                \n",
    "                roi_lags = lags[masks[mask]]\n",
    "                roi_lags = [x for x in roi_lags if x!=0] #drop lags not in lag map (which have lag=0)\n",
    "                median= np.median(roi_lags)                \n",
    "                sub_df = pd.DataFrame({'sub':sub_name,\n",
    "                                      'session':session,\n",
    "                                      'mask':mask,\n",
    "                                      'lag':median*1000,\n",
    "                                       'drug':drug,\n",
    "                                       'distance':mask_ids[mask]\n",
    "                                      }, index = [0])\n",
    "                df.append(sub_df)\n",
    "                \n",
    "    except:\n",
    "        print(sub)\n",
    "df = pd.concat(df)"
   ]
  },
  {
   "cell_type": "code",
   "execution_count": null,
   "id": "1cf4a362",
   "metadata": {},
   "outputs": [],
   "source": [
    "df.to_csv('../csvs/shell_data_dopa.csv', index = False)"
   ]
  }
 ],
 "metadata": {
  "kernelspec": {
   "display_name": "Python 3 (ipykernel)",
   "language": "python",
   "name": "python3"
  },
  "language_info": {
   "codemirror_mode": {
    "name": "ipython",
    "version": 3
   },
   "file_extension": ".py",
   "mimetype": "text/x-python",
   "name": "python",
   "nbconvert_exporter": "python",
   "pygments_lexer": "ipython3",
   "version": "3.9.7"
  }
 },
 "nbformat": 4,
 "nbformat_minor": 5
}
